{
 "cells": [
  {
   "cell_type": "markdown",
   "metadata": {},
   "source": [
    "# IQPopt: Fast optimization of IQP circuits in JAX"
   ]
  },
  {
   "cell_type": "markdown",
   "metadata": {},
   "source": [
    "Instantaneous Quantum Polynomial (IQP) circuits are a class of circuits that are expected to be hard to sample from using classical computers [2]. In this demo we take a look at the pacakge IQPopt [1], which shows that despite this, such circuits can still be optimized efficiently! \n",
    "\n",
    "As we will see, this hinges on a suprising fact about these circuits: while sampling is hard, estimating expectation values of certain observables is easy.\n",
    "\n"
   ]
  },
  {
   "cell_type": "markdown",
   "metadata": {},
   "source": [
    "![IQP circuit optimization](iqpopt_main.png)"
   ]
  },
  {
   "cell_type": "markdown",
   "metadata": {},
   "source": [
    "# Parameterized IQP circuits"
   ]
  },
  {
   "cell_type": "markdown",
   "metadata": {},
   "source": [
    "IQP is designed to optimize a class of IQP circuits called *parameterized IQP circuits*. These are comprised of gates $\\text{exp}(i\\theta_j X_j)$, where the generator $X_j$ is a tensor product of Pauli X operators acting on some subset of qubits and $\\theta_j$ is a trainable parameter. We will represent the parameterized gates by a list\n",
    "\n",
    "<center><code>gates = [gen1, gen2, ...]</code></center>\n",
    "\n",
    "that specifies the generators of the gates (each generator with an independent trainable parameter). Each element of `gates` corresponds to a different parameter, and is a list of lists of integers that specifiy the generators for that parameter. For example,\n",
    "\n",
    "<center><code>gen1 = [[0,1]]</code></center>\n",
    "\n",
    "specifies that the first gate has one generator which corresponds to $X\\otimes X$ acting on the first two qubits of the circuit. A generator \n",
    "\n",
    "<center><code>gen1 = [[0,1], [0]]</code></center>\n",
    "\n",
    "would correspond to a gate with a single parameter with generator $X\\otimes X$ + $X\\otimes I$. \n",
    "\n",
    "Here we will work with the following set of gates "
   ]
  },
  {
   "cell_type": "code",
   "execution_count": 1,
   "metadata": {},
   "outputs": [],
   "source": [
    "gates = [[[0]], [[1]], [[2]], [[0,1]], [[0,2]], [[1,2]]]"
   ]
  },
  {
   "cell_type": "markdown",
   "metadata": {},
   "source": [
    "i.e., all one and two body generators acting on three qubits. "
   ]
  },
  {
   "cell_type": "markdown",
   "metadata": {},
   "source": [
    "## Expectation values"
   ]
  },
  {
   "cell_type": "markdown",
   "metadata": {},
   "source": [
    "IQPopt can be applied to problems that involve measuring expectation values of Pauli Z tensors of parameterized IQP circuits. \n",
    "\n",
    "We will represent these observables with binary lists, where a non-zero element specifies that presence of a Pauli Z operator on that qubit. For example, for a three qubit circuit the operator\n",
    "\n",
    "$$O = Z \\otimes I \\otimes Z$$\n",
    "\n",
    "will be represented as\n",
    "\n",
    "<center><code>op = [1,0,1]</code></center>\n",
    "\n",
    "\n",
    "Let's now put this into practice and build a pennylane circuit out of a ```gates``` list."
   ]
  },
  {
   "cell_type": "markdown",
   "metadata": {},
   "source": [
    "## Creating an IQP circuit with pennylane"
   ]
  },
  {
   "cell_type": "markdown",
   "metadata": {},
   "source": [
    "To build a parameterized IQP circuit in PennyLane, we can use the MultiRZ function, making use of the identity\n",
    "\n",
    "$$\\text{exp}(i\\theta_j X_j) = H^{\\otimes n} \\text{exp}(i\\theta_j Z_j) H^{\\otimes n}$$\n",
    "\n",
    "where $H$ is the Hadamard matrix and $Z_j$ is the operator obtained by replacing the Pauli X operators by Pauli Z operators in $X_j$. Our pennyalne circuit (with input state $\\vert 0 \\rangle$) is therefore the following."
   ]
  },
  {
   "cell_type": "code",
   "execution_count": 2,
   "metadata": {},
   "outputs": [],
   "source": [
    "import pennylane as qml\n",
    "import numpy as np\n",
    "\n",
    "def penn_iqp_gates(params: np.ndarray, gates: list, n_qubits: int):\n",
    "    \"\"\"IQP circuit in pennylane form.\n",
    "\n",
    "    Args:\n",
    "        params (np.ndarray): The parameters of the IQP gates.\n",
    "        gates (list): The gates representation of the IQP circuit.\n",
    "        n_qubits (int): The total number of qubits in the circuit.\n",
    "    \"\"\"\n",
    "\n",
    "    for i in range(n_qubits):\n",
    "        qml.Hadamard(i)\n",
    "\n",
    "    for par, gate in zip(params, gates):\n",
    "        for gen in gate:\n",
    "            qml.MultiRZ(2*par, wires=gen)\n",
    "\n",
    "    for i in range(n_qubits):\n",
    "        qml.Hadamard(i)"
   ]
  },
  {
   "cell_type": "markdown",
   "metadata": {},
   "source": [
    "Now we have our circuit, we can evaluate expectation values of tensor products of Pauli Z operators specified by lists of the form `op` above. "
   ]
  },
  {
   "cell_type": "code",
   "execution_count": 3,
   "metadata": {},
   "outputs": [],
   "source": [
    "def penn_obs(op: np.ndarray) -> qml.operation.Observable:\n",
    "    \"\"\"Returns a pennylane observable from a bitstring representation.\n",
    "\n",
    "    Args:\n",
    "        op (np.ndarray): Bitstring representation of the Z operator.\n",
    "\n",
    "    Returns:\n",
    "        qml.Observable: Pennylane observable.\n",
    "    \"\"\"\n",
    "    for i, z in enumerate(op):\n",
    "        if i==0:\n",
    "            if z:\n",
    "                obs = qml.Z(i)\n",
    "            else:\n",
    "                obs = qml.I(i)\n",
    "        else:\n",
    "            if z:\n",
    "                obs @= qml.Z(i)\n",
    "    return obs\n",
    "\n",
    "def penn_iqp_circuit(params: np.ndarray, gates: list, op: np.ndarray, n_qubits: int) -> qml.measurements.ExpectationMP:\n",
    "    \"\"\"Defines the circuit that calculates the expectation value of the operator with the IQP circuit with pennylane tools.\n",
    "\n",
    "    Args:\n",
    "        params (np.ndarray): The parameters of the IQP gates.\n",
    "        gates (list): The gates representation of the IQP circuit.\n",
    "        op (np.ndarray): Bitstring representation of the Z operator.\n",
    "        n_qubits (int): The total number of qubits in the circuit.\n",
    "\n",
    "    Returns:\n",
    "        qml.measurements.ExpectationMP: Pennylane circuit with an expectation value.\n",
    "    \"\"\"\n",
    "    penn_iqp_gates(params, gates, n_qubits)\n",
    "    obs = penn_obs(op)\n",
    "    return qml.expval(obs)\n",
    "\n",
    "def penn_iqp_op_expval(params: np.ndarray, gates: list, op: np.ndarray, n_qubits: int) -> float:\n",
    "    \"\"\"Calculates the expectation value of the operator with the IQP circuit with pennylane tools.\n",
    "\n",
    "    Args:\n",
    "        params (np.ndarray): The parameters of the IQP gates.\n",
    "        gates (list): The gates representation of the IQP circuit.\n",
    "        op (np.ndarray): Bitstring representation of the Z operator.\n",
    "        n_qubits (int): The total number of qubits in the circuit.\n",
    "\n",
    "    Returns:\n",
    "        float: Expectation value.\n",
    "    \"\"\"\n",
    "    dev = qml.device(\"lightning.qubit\", wires=n_qubits)\n",
    "    penn_iqp_circuit_exe = qml.QNode(penn_iqp_circuit, dev)\n",
    "    return penn_iqp_circuit_exe(params, gates, op, n_qubits)"
   ]
  },
  {
   "cell_type": "markdown",
   "metadata": {},
   "source": [
    "With this, we can now calculate all expectation values of Pauli Z tensors of any parameterizec IQP circuit we can think of. Let's see an example using our `gates` list from above. "
   ]
  },
  {
   "cell_type": "code",
   "execution_count": 4,
   "metadata": {},
   "outputs": [
    {
     "name": "stdout",
     "output_type": "stream",
     "text": [
      "0.13023257631237486\n"
     ]
    }
   ],
   "source": [
    "n_qubits = 3\n",
    "op = np.array([1,0,1]) # operator ZIZ\n",
    "params = np.random.rand(len(gates)) # random parameters for all the gates (remember we have 5 gates with 6 generators in total)\n",
    "\n",
    "penn_op_expval = penn_iqp_op_expval(params, gates, op, n_qubits)\n",
    "print(penn_op_expval)"
   ]
  },
  {
   "cell_type": "markdown",
   "metadata": {},
   "source": [
    "## Estimating expectation values with IQPopt\n",
    "\n",
    "IQPopt is able to perform the same operations our pennylane circuit above is able to do. Although, this time, only with approximations instead of exact values. The gain is that we can work with very large circuits.\n",
    "\n",
    "Starting from a paper [5] from Van den Nest (Theorem 3), one can arrive at the following expression for expectation values of Pauli Z operators\n",
    "\n",
    "$$\\langle Z_{\\boldsymbol{a}} \\rangle = \\mathbb{E}_{\\boldsymbol{z}\\sim U}\\Big[ \\cos\\Big(\\sum_j \\theta_{j}(-1)^{\\boldsymbol{g}_{j}\\cdot \\boldsymbol{z}}(1-(-1)^{\\boldsymbol{g}_j\\cdot \\boldsymbol{a}}\\Big) \\Big],$$\n",
    "\n",
    "where $\\boldsymbol{a}$ is the bitstring form of the operator we want to calculate the expectation value of, $\\boldsymbol{z}$ are bitstring samples taken from the uniform distribution, $\\theta_{j}$ are the trainable parameters and $\\boldsymbol{g}_{j}$ are the different generators also in bitstring form. Although this expression is exact, computing the expectation exactly requires an infite number of samples $\\boldsymbol{z}$. Instead, we can replace the expectation with an empirical mean and compute an unbiased estimate of $\\langle Z_{\\boldsymbol{a}} \\rangle$ efficiently. That is, if we sample a batch of $s$ bitstrings $\\{\\boldsymbol{z}_i\\}$ from the uniform distribution and compute the sample mean\n",
    "\n",
    "$$\\hat{\\langle Z_{\\boldsymbol{a}}\\rangle} = \\frac{1}{s}\\sum_{i}\\cos\\Big(\\sum_j \\theta_j(-1)^{\\boldsymbol{g}_j\\cdot \\boldsymbol{z}_i}(1-(-1)^{\\boldsymbol{g}_j\\cdot \\boldsymbol{a}})\\Big),$$\n",
    "\n",
    "we obtain an unbiased estimate $\\hat{\\langle Z_{\\boldsymbol{a}}\\rangle}$ of $\\langle Z_{\\boldsymbol{a}}\\rangle$; i.e. we have that $\\mathbb{E}[\\hat{\\langle Z_{\\boldsymbol{a}}\\rangle}] = \\langle Z_{\\boldsymbol{a}}\\rangle$. The error of this approximation is well known since, by the central limit theorem, the standard deviation of the sample mean of a bounded random variable decreases as $\\mathcal{O}(1/\\sqrt{s})$.\n",
    "\n",
    "\n",
    "Let's see now how to use the IQPopt package to calculate expectation values, using the same arguments we used in the previous example. First, we create the circuit object with ```IqpSimulator``` only with the number of qubits of the circuit and the ```gates``` parameter already explained:"
   ]
  },
  {
   "cell_type": "code",
   "execution_count": 5,
   "metadata": {},
   "outputs": [],
   "source": [
    "import iqpopt as iqp\n",
    "\n",
    "small_circuit = iqp.IqpSimulator(n_qubits, gates)"
   ]
  },
  {
   "cell_type": "markdown",
   "metadata": {},
   "source": [
    "To obtain estimates of expectation values we use the class method ```IqpSimulator.op_expval()```. This function requires a parameter array ```params```, a PauliZ operator specified by its binary representation ```op```, a new parameter ```n_samples``` (the number of samples $s$) that controls the precision of the approximation (the more the better), and a JAX pseudo random number generator key to seed the randomness of the sampling. It returns the expectation value estimate as well as its standard error.\n",
    "\n",
    "Using the same ```params``` and ```op``` as before:"
   ]
  },
  {
   "cell_type": "code",
   "execution_count": 6,
   "metadata": {},
   "outputs": [
    {
     "name": "stdout",
     "output_type": "stream",
     "text": [
      "[0.12434083] [0.01339994]\n"
     ]
    }
   ],
   "source": [
    "import jax\n",
    "\n",
    "n_samples = 2000\n",
    "key = jax.random.PRNGKey(66)\n",
    "\n",
    "expval, std = small_circuit.op_expval(params, op, n_samples, key)\n",
    "\n",
    "print(expval, std)"
   ]
  },
  {
   "cell_type": "markdown",
   "metadata": {},
   "source": [
    "Since the calculation on ```iqpopt```'s side is stochastic, the result is not exactly the same than the one obtained with pennylane. But, as we can see, they are within std error. You can try increasing ```n_samples``` in order to obtain closer approximations.\n",
    "\n",
    "This function also allows for fast batch evaluation of expectation values. If we specify a batch of operators ```ops``` by an array, we can batch evaluate the expectation values and errors in parallel with the same syntax."
   ]
  },
  {
   "cell_type": "code",
   "execution_count": 7,
   "metadata": {},
   "outputs": [
    {
     "name": "stdout",
     "output_type": "stream",
     "text": [
      "[-0.12944668  0.22889233  0.64510276] [0.01914976 0.01153743 0.00658739]\n"
     ]
    }
   ],
   "source": [
    "ops = np.array([[1,0,0],[0,1,0],[0,0,1]]) # batch of single qubit Pauli Zs\n",
    "\n",
    "expvals, stds = small_circuit.op_expval(params, ops, n_samples, key)\n",
    "\n",
    "print(expvals, stds)"
   ]
  },
  {
   "cell_type": "markdown",
   "metadata": {},
   "source": [
    "With pennylane it would be very time consuming to pass the 30 qubit mark, but with IQPopt, we can easily go way further than that."
   ]
  },
  {
   "cell_type": "code",
   "execution_count": 8,
   "metadata": {},
   "outputs": [
    {
     "name": "stdout",
     "output_type": "stream",
     "text": [
      "[-0.00813489] [0.02254851]\n"
     ]
    }
   ],
   "source": [
    "n_qubits = 1000\n",
    "n_gates = 1000\n",
    "\n",
    "gates = []\n",
    "for _ in range(n_gates):\n",
    "    # First we create a generator with bodyness 2\n",
    "    gen = list(np.random.choice(n_qubits, 2, replace=False))\n",
    "    # Each gen will have its independent trainable parameter, so we can directly build the gate\n",
    "    gates.append([gen])\n",
    "\n",
    "large_circuit = iqp.IqpSimulator(n_qubits, gates)\n",
    "\n",
    "params = np.random.rand(len(gates))\n",
    "op = np.random.randint(0, 2, n_qubits)\n",
    "n_samples = 1000\n",
    "key = jax.random.PRNGKey(42)\n",
    "\n",
    "expval, std = large_circuit.op_expval(params, op, n_samples, key)\n",
    "\n",
    "print(expval, std)"
   ]
  },
  {
   "cell_type": "markdown",
   "metadata": {},
   "source": [
    "## Sampling and probabilities"
   ]
  },
  {
   "cell_type": "markdown",
   "metadata": {},
   "source": [
    "If we measure the output qubits of an IQP circuit we generate samples of binary vectors according to the distribution\n",
    "\n",
    "$$q_{\\boldsymbol{\\theta}}(\\boldsymbol{x}) \\equiv q(\\boldsymbol{x}\\vert\\boldsymbol{\\theta})=\\vert\\bra{\\boldsymbol{x}}U(\\boldsymbol{\\theta})\\ket{0}\\vert^2.$$\n",
    "\n",
    "Where $U(\\boldsymbol{\\theta})$ is the parametrized IQP gates. For a low number of qubits, we can use Pennylane to obtain the output probabilities of the circuit as well as sample from it. Note that there is not an efficient algorithm to do these so for large numbers of qubits so PennyLane returns an error in this case.  \n",
    "\n",
    "These functions are already implemented in the ```IqpSimulator``` object. The ```.probs()``` method works as it does in pennylane, the returned array of probabilities is in lexicographic order."
   ]
  },
  {
   "cell_type": "code",
   "execution_count": 9,
   "metadata": {},
   "outputs": [
    {
     "name": "stdout",
     "output_type": "stream",
     "text": [
      "[0 0 0]\n",
      "[0.28130125 0.07305846 0.00515284 0.1388627  0.10392528 0.05937407\n",
      " 0.02775169 0.31057372]\n"
     ]
    }
   ],
   "source": [
    "sample = small_circuit.sample(params, shots=1)\n",
    "print(sample)\n",
    "\n",
    "probabilities = small_circuit.probs(params)\n",
    "print(probabilities)"
   ]
  },
  {
   "cell_type": "code",
   "execution_count": 10,
   "metadata": {},
   "outputs": [
    {
     "ename": "MemoryError",
     "evalue": "bad allocation",
     "output_type": "error",
     "traceback": [
      "\u001b[1;31m---------------------------------------------------------------------------\u001b[0m",
      "\u001b[1;31mMemoryError\u001b[0m                               Traceback (most recent call last)",
      "Cell \u001b[1;32mIn[10], line 1\u001b[0m\n\u001b[1;32m----> 1\u001b[0m sample \u001b[38;5;241m=\u001b[39m \u001b[43mlarge_circuit\u001b[49m\u001b[38;5;241;43m.\u001b[39;49m\u001b[43msample\u001b[49m\u001b[43m(\u001b[49m\u001b[43mparams\u001b[49m\u001b[43m,\u001b[49m\u001b[43m \u001b[49m\u001b[43mshots\u001b[49m\u001b[38;5;241;43m=\u001b[39;49m\u001b[38;5;241;43m1\u001b[39;49m\u001b[43m)\u001b[49m\n\u001b[0;32m      2\u001b[0m \u001b[38;5;28mprint\u001b[39m(sample)\n",
      "File \u001b[1;32mD:\\Documents\\1.GitHub\\iqpopt\\src\\iqpopt\\iqp_optimizer.py:185\u001b[0m, in \u001b[0;36mIqpSimulator.sample\u001b[1;34m(self, params, shots)\u001b[0m\n\u001b[0;32m    182\u001b[0m     \u001b[38;5;28;01mreturn\u001b[39;00m jnp\u001b[38;5;241m.\u001b[39marray(samples)\n\u001b[0;32m    184\u001b[0m \u001b[38;5;28;01melse\u001b[39;00m:\n\u001b[1;32m--> 185\u001b[0m     dev \u001b[38;5;241m=\u001b[39m \u001b[43mqml\u001b[49m\u001b[38;5;241;43m.\u001b[39;49m\u001b[43mdevice\u001b[49m\u001b[43m(\u001b[49m\u001b[38;5;28;43mself\u001b[39;49m\u001b[38;5;241;43m.\u001b[39;49m\u001b[43mdevice\u001b[49m\u001b[43m,\u001b[49m\u001b[43m \u001b[49m\u001b[43mwires\u001b[49m\u001b[38;5;241;43m=\u001b[39;49m\u001b[38;5;28;43mself\u001b[39;49m\u001b[38;5;241;43m.\u001b[39;49m\u001b[43mn_qubits\u001b[49m\u001b[43m,\u001b[49m\u001b[43m \u001b[49m\u001b[43mshots\u001b[49m\u001b[38;5;241;43m=\u001b[39;49m\u001b[43mshots\u001b[49m\u001b[43m)\u001b[49m\n\u001b[0;32m    187\u001b[0m     \u001b[38;5;129m@qml\u001b[39m\u001b[38;5;241m.\u001b[39mqnode(dev)\n\u001b[0;32m    188\u001b[0m     \u001b[38;5;28;01mdef\u001b[39;00m \u001b[38;5;21msample_circuit\u001b[39m(params):\n\u001b[0;32m    189\u001b[0m         \u001b[38;5;28mself\u001b[39m\u001b[38;5;241m.\u001b[39miqp_circuit(params)\n",
      "File \u001b[1;32md:\\Documents\\1.GitHub\\venv\\lib\\site-packages\\pennylane\\__init__.py:413\u001b[0m, in \u001b[0;36mdevice\u001b[1;34m(name, *args, **kwargs)\u001b[0m\n\u001b[0;32m    407\u001b[0m     \u001b[38;5;28;01mraise\u001b[39;00m DeviceError(\n\u001b[0;32m    408\u001b[0m         \u001b[38;5;124mf\u001b[39m\u001b[38;5;124m\"\u001b[39m\u001b[38;5;124mThe \u001b[39m\u001b[38;5;132;01m{\u001b[39;00mname\u001b[38;5;132;01m}\u001b[39;00m\u001b[38;5;124m plugin requires PennyLane versions \u001b[39m\u001b[38;5;132;01m{\u001b[39;00mplugin_device_class\u001b[38;5;241m.\u001b[39mpennylane_requires\u001b[38;5;132;01m}\u001b[39;00m\u001b[38;5;124m, \u001b[39m\u001b[38;5;124m\"\u001b[39m\n\u001b[0;32m    409\u001b[0m         \u001b[38;5;124mf\u001b[39m\u001b[38;5;124m\"\u001b[39m\u001b[38;5;124mhowever PennyLane version \u001b[39m\u001b[38;5;132;01m{\u001b[39;00m__version__\u001b[38;5;132;01m}\u001b[39;00m\u001b[38;5;124m is installed.\u001b[39m\u001b[38;5;124m\"\u001b[39m\n\u001b[0;32m    410\u001b[0m     )\n\u001b[0;32m    412\u001b[0m \u001b[38;5;66;03m# Construct the device\u001b[39;00m\n\u001b[1;32m--> 413\u001b[0m dev \u001b[38;5;241m=\u001b[39m plugin_device_class(\u001b[38;5;241m*\u001b[39margs, \u001b[38;5;241m*\u001b[39m\u001b[38;5;241m*\u001b[39moptions)\n\u001b[0;32m    415\u001b[0m \u001b[38;5;66;03m# Once the device is constructed, we set its custom expansion function if\u001b[39;00m\n\u001b[0;32m    416\u001b[0m \u001b[38;5;66;03m# any custom decompositions were specified.\u001b[39;00m\n\u001b[0;32m    417\u001b[0m \u001b[38;5;28;01mif\u001b[39;00m custom_decomps \u001b[38;5;129;01mis\u001b[39;00m \u001b[38;5;129;01mnot\u001b[39;00m \u001b[38;5;28;01mNone\u001b[39;00m:\n",
      "File \u001b[1;32md:\\Documents\\1.GitHub\\venv\\lib\\site-packages\\pennylane_lightning\\lightning_qubit\\lightning_qubit.py:508\u001b[0m, in \u001b[0;36mLightningQubit.__init__\u001b[1;34m(self, wires, c_dtype, shots, seed, mcmc, kernel_name, num_burnin, batch_obs)\u001b[0m\n\u001b[0;32m    505\u001b[0m \u001b[38;5;28;01melse\u001b[39;00m:\n\u001b[0;32m    506\u001b[0m     \u001b[38;5;28mself\u001b[39m\u001b[38;5;241m.\u001b[39m_wire_map \u001b[38;5;241m=\u001b[39m {w: i \u001b[38;5;28;01mfor\u001b[39;00m i, w \u001b[38;5;129;01min\u001b[39;00m \u001b[38;5;28menumerate\u001b[39m(\u001b[38;5;28mself\u001b[39m\u001b[38;5;241m.\u001b[39mwires)}\n\u001b[1;32m--> 508\u001b[0m \u001b[38;5;28mself\u001b[39m\u001b[38;5;241m.\u001b[39m_statevector \u001b[38;5;241m=\u001b[39m \u001b[43mLightningStateVector\u001b[49m\u001b[43m(\u001b[49m\u001b[43mnum_wires\u001b[49m\u001b[38;5;241;43m=\u001b[39;49m\u001b[38;5;28;43mlen\u001b[39;49m\u001b[43m(\u001b[49m\u001b[38;5;28;43mself\u001b[39;49m\u001b[38;5;241;43m.\u001b[39;49m\u001b[43mwires\u001b[49m\u001b[43m)\u001b[49m\u001b[43m,\u001b[49m\u001b[43m \u001b[49m\u001b[43mdtype\u001b[49m\u001b[38;5;241;43m=\u001b[39;49m\u001b[43mc_dtype\u001b[49m\u001b[43m)\u001b[49m\n\u001b[0;32m    510\u001b[0m \u001b[38;5;66;03m# TODO: Investigate usefulness of creating numpy random generator\u001b[39;00m\n\u001b[0;32m    511\u001b[0m seed \u001b[38;5;241m=\u001b[39m np\u001b[38;5;241m.\u001b[39mrandom\u001b[38;5;241m.\u001b[39mrandint(\u001b[38;5;241m0\u001b[39m, high\u001b[38;5;241m=\u001b[39m\u001b[38;5;241m10000000\u001b[39m) \u001b[38;5;28;01mif\u001b[39;00m seed \u001b[38;5;241m==\u001b[39m \u001b[38;5;124m\"\u001b[39m\u001b[38;5;124mglobal\u001b[39m\u001b[38;5;124m\"\u001b[39m \u001b[38;5;28;01melse\u001b[39;00m seed\n",
      "File \u001b[1;32md:\\Documents\\1.GitHub\\venv\\lib\\site-packages\\pennylane_lightning\\lightning_qubit\\_state_vector.py:65\u001b[0m, in \u001b[0;36mLightningStateVector.__init__\u001b[1;34m(self, num_wires, dtype, device_name)\u001b[0m\n\u001b[0;32m     62\u001b[0m     \u001b[38;5;28;01mraise\u001b[39;00m DeviceError(\u001b[38;5;124mf\u001b[39m\u001b[38;5;124m'\u001b[39m\u001b[38;5;124mThe device name \u001b[39m\u001b[38;5;124m\"\u001b[39m\u001b[38;5;132;01m{\u001b[39;00mdevice_name\u001b[38;5;132;01m}\u001b[39;00m\u001b[38;5;124m\"\u001b[39m\u001b[38;5;124m is not a valid option.\u001b[39m\u001b[38;5;124m'\u001b[39m)\n\u001b[0;32m     64\u001b[0m \u001b[38;5;28mself\u001b[39m\u001b[38;5;241m.\u001b[39m_device_name \u001b[38;5;241m=\u001b[39m device_name\n\u001b[1;32m---> 65\u001b[0m \u001b[38;5;28mself\u001b[39m\u001b[38;5;241m.\u001b[39m_qubit_state \u001b[38;5;241m=\u001b[39m \u001b[38;5;28;43mself\u001b[39;49m\u001b[38;5;241;43m.\u001b[39;49m\u001b[43m_state_dtype\u001b[49m\u001b[43m(\u001b[49m\u001b[43m)\u001b[49m\u001b[43m(\u001b[49m\u001b[38;5;28;43mself\u001b[39;49m\u001b[38;5;241;43m.\u001b[39;49m\u001b[43m_num_wires\u001b[49m\u001b[43m)\u001b[49m\n",
      "\u001b[1;31mMemoryError\u001b[0m: bad allocation"
     ]
    }
   ],
   "source": [
    "sample = large_circuit.sample(params, shots=1)\n",
    "print(sample)"
   ]
  },
  {
   "cell_type": "code",
   "execution_count": 11,
   "metadata": {},
   "outputs": [
    {
     "ename": "MemoryError",
     "evalue": "bad allocation",
     "output_type": "error",
     "traceback": [
      "\u001b[1;31m---------------------------------------------------------------------------\u001b[0m",
      "\u001b[1;31mMemoryError\u001b[0m                               Traceback (most recent call last)",
      "Cell \u001b[1;32mIn[11], line 1\u001b[0m\n\u001b[1;32m----> 1\u001b[0m probabilities \u001b[38;5;241m=\u001b[39m \u001b[43mlarge_circuit\u001b[49m\u001b[38;5;241;43m.\u001b[39;49m\u001b[43mprobs\u001b[49m\u001b[43m(\u001b[49m\u001b[43mparams\u001b[49m\u001b[43m)\u001b[49m\n\u001b[0;32m      2\u001b[0m \u001b[38;5;28mprint\u001b[39m(probabilities)\n",
      "File \u001b[1;32mD:\\Documents\\1.GitHub\\iqpopt\\src\\iqpopt\\iqp_optimizer.py:207\u001b[0m, in \u001b[0;36mIqpSimulator.probs\u001b[1;34m(self, params)\u001b[0m\n\u001b[0;32m    204\u001b[0m \u001b[38;5;28;01mif\u001b[39;00m \u001b[38;5;28mself\u001b[39m\u001b[38;5;241m.\u001b[39mbitflip:\n\u001b[0;32m    205\u001b[0m     \u001b[38;5;28;01mraise\u001b[39;00m \u001b[38;5;167;01mNotImplementedError\u001b[39;00m(\n\u001b[0;32m    206\u001b[0m         \u001b[38;5;124m\"\u001b[39m\u001b[38;5;124mprobs not implemented for bitflip circuits\u001b[39m\u001b[38;5;124m\"\u001b[39m)\n\u001b[1;32m--> 207\u001b[0m dev \u001b[38;5;241m=\u001b[39m \u001b[43mqml\u001b[49m\u001b[38;5;241;43m.\u001b[39;49m\u001b[43mdevice\u001b[49m\u001b[43m(\u001b[49m\u001b[38;5;28;43mself\u001b[39;49m\u001b[38;5;241;43m.\u001b[39;49m\u001b[43mdevice\u001b[49m\u001b[43m,\u001b[49m\u001b[43m \u001b[49m\u001b[43mwires\u001b[49m\u001b[38;5;241;43m=\u001b[39;49m\u001b[38;5;28;43mself\u001b[39;49m\u001b[38;5;241;43m.\u001b[39;49m\u001b[43mn_qubits\u001b[49m\u001b[43m)\u001b[49m\n\u001b[0;32m    209\u001b[0m \u001b[38;5;129m@qml\u001b[39m\u001b[38;5;241m.\u001b[39mqnode(dev)\n\u001b[0;32m    210\u001b[0m \u001b[38;5;28;01mdef\u001b[39;00m \u001b[38;5;21mprobs_circuit\u001b[39m(params):\n\u001b[0;32m    211\u001b[0m     \u001b[38;5;28mself\u001b[39m\u001b[38;5;241m.\u001b[39miqp_circuit(params)\n",
      "File \u001b[1;32md:\\Documents\\1.GitHub\\venv\\lib\\site-packages\\pennylane\\__init__.py:413\u001b[0m, in \u001b[0;36mdevice\u001b[1;34m(name, *args, **kwargs)\u001b[0m\n\u001b[0;32m    407\u001b[0m     \u001b[38;5;28;01mraise\u001b[39;00m DeviceError(\n\u001b[0;32m    408\u001b[0m         \u001b[38;5;124mf\u001b[39m\u001b[38;5;124m\"\u001b[39m\u001b[38;5;124mThe \u001b[39m\u001b[38;5;132;01m{\u001b[39;00mname\u001b[38;5;132;01m}\u001b[39;00m\u001b[38;5;124m plugin requires PennyLane versions \u001b[39m\u001b[38;5;132;01m{\u001b[39;00mplugin_device_class\u001b[38;5;241m.\u001b[39mpennylane_requires\u001b[38;5;132;01m}\u001b[39;00m\u001b[38;5;124m, \u001b[39m\u001b[38;5;124m\"\u001b[39m\n\u001b[0;32m    409\u001b[0m         \u001b[38;5;124mf\u001b[39m\u001b[38;5;124m\"\u001b[39m\u001b[38;5;124mhowever PennyLane version \u001b[39m\u001b[38;5;132;01m{\u001b[39;00m__version__\u001b[38;5;132;01m}\u001b[39;00m\u001b[38;5;124m is installed.\u001b[39m\u001b[38;5;124m\"\u001b[39m\n\u001b[0;32m    410\u001b[0m     )\n\u001b[0;32m    412\u001b[0m \u001b[38;5;66;03m# Construct the device\u001b[39;00m\n\u001b[1;32m--> 413\u001b[0m dev \u001b[38;5;241m=\u001b[39m plugin_device_class(\u001b[38;5;241m*\u001b[39margs, \u001b[38;5;241m*\u001b[39m\u001b[38;5;241m*\u001b[39moptions)\n\u001b[0;32m    415\u001b[0m \u001b[38;5;66;03m# Once the device is constructed, we set its custom expansion function if\u001b[39;00m\n\u001b[0;32m    416\u001b[0m \u001b[38;5;66;03m# any custom decompositions were specified.\u001b[39;00m\n\u001b[0;32m    417\u001b[0m \u001b[38;5;28;01mif\u001b[39;00m custom_decomps \u001b[38;5;129;01mis\u001b[39;00m \u001b[38;5;129;01mnot\u001b[39;00m \u001b[38;5;28;01mNone\u001b[39;00m:\n",
      "File \u001b[1;32md:\\Documents\\1.GitHub\\venv\\lib\\site-packages\\pennylane_lightning\\lightning_qubit\\lightning_qubit.py:508\u001b[0m, in \u001b[0;36mLightningQubit.__init__\u001b[1;34m(self, wires, c_dtype, shots, seed, mcmc, kernel_name, num_burnin, batch_obs)\u001b[0m\n\u001b[0;32m    505\u001b[0m \u001b[38;5;28;01melse\u001b[39;00m:\n\u001b[0;32m    506\u001b[0m     \u001b[38;5;28mself\u001b[39m\u001b[38;5;241m.\u001b[39m_wire_map \u001b[38;5;241m=\u001b[39m {w: i \u001b[38;5;28;01mfor\u001b[39;00m i, w \u001b[38;5;129;01min\u001b[39;00m \u001b[38;5;28menumerate\u001b[39m(\u001b[38;5;28mself\u001b[39m\u001b[38;5;241m.\u001b[39mwires)}\n\u001b[1;32m--> 508\u001b[0m \u001b[38;5;28mself\u001b[39m\u001b[38;5;241m.\u001b[39m_statevector \u001b[38;5;241m=\u001b[39m \u001b[43mLightningStateVector\u001b[49m\u001b[43m(\u001b[49m\u001b[43mnum_wires\u001b[49m\u001b[38;5;241;43m=\u001b[39;49m\u001b[38;5;28;43mlen\u001b[39;49m\u001b[43m(\u001b[49m\u001b[38;5;28;43mself\u001b[39;49m\u001b[38;5;241;43m.\u001b[39;49m\u001b[43mwires\u001b[49m\u001b[43m)\u001b[49m\u001b[43m,\u001b[49m\u001b[43m \u001b[49m\u001b[43mdtype\u001b[49m\u001b[38;5;241;43m=\u001b[39;49m\u001b[43mc_dtype\u001b[49m\u001b[43m)\u001b[49m\n\u001b[0;32m    510\u001b[0m \u001b[38;5;66;03m# TODO: Investigate usefulness of creating numpy random generator\u001b[39;00m\n\u001b[0;32m    511\u001b[0m seed \u001b[38;5;241m=\u001b[39m np\u001b[38;5;241m.\u001b[39mrandom\u001b[38;5;241m.\u001b[39mrandint(\u001b[38;5;241m0\u001b[39m, high\u001b[38;5;241m=\u001b[39m\u001b[38;5;241m10000000\u001b[39m) \u001b[38;5;28;01mif\u001b[39;00m seed \u001b[38;5;241m==\u001b[39m \u001b[38;5;124m\"\u001b[39m\u001b[38;5;124mglobal\u001b[39m\u001b[38;5;124m\"\u001b[39m \u001b[38;5;28;01melse\u001b[39;00m seed\n",
      "File \u001b[1;32md:\\Documents\\1.GitHub\\venv\\lib\\site-packages\\pennylane_lightning\\lightning_qubit\\_state_vector.py:65\u001b[0m, in \u001b[0;36mLightningStateVector.__init__\u001b[1;34m(self, num_wires, dtype, device_name)\u001b[0m\n\u001b[0;32m     62\u001b[0m     \u001b[38;5;28;01mraise\u001b[39;00m DeviceError(\u001b[38;5;124mf\u001b[39m\u001b[38;5;124m'\u001b[39m\u001b[38;5;124mThe device name \u001b[39m\u001b[38;5;124m\"\u001b[39m\u001b[38;5;132;01m{\u001b[39;00mdevice_name\u001b[38;5;132;01m}\u001b[39;00m\u001b[38;5;124m\"\u001b[39m\u001b[38;5;124m is not a valid option.\u001b[39m\u001b[38;5;124m'\u001b[39m)\n\u001b[0;32m     64\u001b[0m \u001b[38;5;28mself\u001b[39m\u001b[38;5;241m.\u001b[39m_device_name \u001b[38;5;241m=\u001b[39m device_name\n\u001b[1;32m---> 65\u001b[0m \u001b[38;5;28mself\u001b[39m\u001b[38;5;241m.\u001b[39m_qubit_state \u001b[38;5;241m=\u001b[39m \u001b[38;5;28;43mself\u001b[39;49m\u001b[38;5;241;43m.\u001b[39;49m\u001b[43m_state_dtype\u001b[49m\u001b[43m(\u001b[49m\u001b[43m)\u001b[49m\u001b[43m(\u001b[49m\u001b[38;5;28;43mself\u001b[39;49m\u001b[38;5;241;43m.\u001b[39;49m\u001b[43m_num_wires\u001b[49m\u001b[43m)\u001b[49m\n",
      "\u001b[1;31mMemoryError\u001b[0m: bad allocation"
     ]
    }
   ],
   "source": [
    "probabilities = large_circuit.probs(params)\n",
    "print(probabilities)"
   ]
  },
  {
   "cell_type": "markdown",
   "metadata": {},
   "source": [
    "As we can see, we can't sample or know the probabilities of the circuit for the large one. The only efficient approximation algorithm we have is for the calculation of expectation values. Let's see how time scales for each of the methods."
   ]
  },
  {
   "cell_type": "code",
   "execution_count": 12,
   "metadata": {},
   "outputs": [
    {
     "data": {
      "image/png": "[encoded data removed]",
      "text/plain": [
       "<Figure size 640x480 with 1 Axes>"
      ]
     },
     "metadata": {},
     "output_type": "display_data"
    }
   ],
   "source": [
    "import time\n",
    "import matplotlib.pyplot as plt\n",
    "\n",
    "range_qubits = range(15, 26)\n",
    "n_gates = 10\n",
    "n_samples = 1000\n",
    "\n",
    "times_op, times_sample, times_probs = [], [], []\n",
    "for n_qubits in range_qubits:\n",
    "    \n",
    "    gates = []\n",
    "    for _ in range(n_gates):\n",
    "        gen = list(np.random.choice(n_qubits, 2, replace=False))\n",
    "        gates.append([gen])\n",
    "    \n",
    "    circuit = iqp.IqpSimulator(n_qubits, gates)\n",
    "    params_init = np.random.uniform(0, 2*np.pi, len(gates))\n",
    "    key = jax.random.PRNGKey(np.random.randint(0, 99999))\n",
    "    op = np.random.randint(0, 2, n_qubits)\n",
    "    \n",
    "    # Timing op_expval\n",
    "    start = time.perf_counter()\n",
    "    circuit.op_expval(params_init, op, n_samples, key)\n",
    "    times_op.append(time.perf_counter() - start)\n",
    "    \n",
    "    # Timing sample\n",
    "    start = time.perf_counter()\n",
    "    circuit.sample(params_init, shots=1)\n",
    "    times_sample.append(time.perf_counter() - start)\n",
    "    \n",
    "    # Timing probs\n",
    "    start = time.perf_counter()\n",
    "    circuit.probs(params_init)\n",
    "    times_probs.append(time.perf_counter() - start)\n",
    "\n",
    "plt.scatter(range_qubits[1:], times_op[1:], label=\"op_expval\")\n",
    "plt.scatter(range_qubits[1:], times_sample[1:], label=\"sample\")\n",
    "plt.scatter(range_qubits[1:], times_probs[1:], label=\"probs\")\n",
    "\n",
    "plt.xlabel(\"n_qubits\")\n",
    "plt.ylabel(\"Time [s]\")\n",
    "plt.yscale(\"log\")\n",
    "plt.title(f\"Time vs n_qubits\")\n",
    "plt.legend()\n",
    "plt.show()"
   ]
  },
  {
   "cell_type": "markdown",
   "metadata": {},
   "source": [
    "In the previous figure, you can see that the time to sample or compute probabilities scales exponentially, however expectation values are very efficient (the scaling can be shown to be linear)."
   ]
  },
  {
   "cell_type": "markdown",
   "metadata": {},
   "source": [
    "## Optimizing an IQPopt circuit"
   ]
  },
  {
   "cell_type": "markdown",
   "metadata": {},
   "source": [
    "Circuits can be optimized via a separate ```Trainer``` class. To instantiate a trainer object we first define a loss function (also called an objective function), an optimizer and an initial stepsize for the gradient descent. Continuing our ```small_circuit``` example from before, below we define a simple loss function that is a sum of expectation values returned by ```.op_expval()``` ."
   ]
  },
  {
   "cell_type": "code",
   "execution_count": 13,
   "metadata": {},
   "outputs": [],
   "source": [
    "import jax.numpy as jnp\n",
    "\n",
    "def loss_fn(params, circuit, ops, n_samples, key):\n",
    "    expvals = circuit.op_expval(params, ops, n_samples, key)[0]\n",
    "    return jnp.sum(expvals)\n",
    "\n",
    "optimizer = \"Adam\"\n",
    "stepsize = 0.001\n",
    "\n",
    "trainer = iqp.Trainer(optimizer, loss_fn, stepsize)"
   ]
  },
  {
   "cell_type": "markdown",
   "metadata": {},
   "source": [
    "Any differentiable loss function expressible in JAX can be defined, but must have a first argument ```params``` that corresponds to the optimization parameters of the circuit. To minimize the loss function, we call the method ```.train()``` , which requires the number of iterations ```n_iters``` and the initial arguments of the loss function ```loss_kwargs``` given as a dictionary object. This dictionary must contain a key ```params``` whose corresponding value specifies the initial parameters."
   ]
  },
  {
   "cell_type": "code",
   "execution_count": 14,
   "metadata": {},
   "outputs": [
    {
     "name": "stderr",
     "output_type": "stream",
     "text": [
      "Training Progress: 100%|██████████| 1000/1000 [00:00<00:00, 2300.10it/s, loss=-2.984846, elapsed time=0.01, total time=0.86]"
     ]
    },
    {
     "name": "stdout",
     "output_type": "stream",
     "text": [
      "Training has not converged after 1000 steps\n"
     ]
    },
    {
     "name": "stderr",
     "output_type": "stream",
     "text": [
      "\n"
     ]
    },
    {
     "data": {
      "image/png": "[encoded data removed]",
      "text/plain": [
       "<Figure size 640x480 with 1 Axes>"
      ]
     },
     "metadata": {},
     "output_type": "display_data"
    }
   ],
   "source": [
    "np.random.seed(0)\n",
    "\n",
    "n_iters = 1000\n",
    "params_init = np.random.normal(0, 1, len(small_circuit.gates))\n",
    "n_samples = 100\n",
    "\n",
    "loss_kwargs = {\n",
    "    \"params\": params_init,\n",
    "    \"circuit\": small_circuit,\n",
    "    \"ops\": ops,\n",
    "    \"n_samples\": n_samples,\n",
    "    \"key\": key\n",
    "}\n",
    "\n",
    "trainer.train(n_iters, loss_kwargs, turbo=100) # the turbo option trains in iteration batches of the number that you input, using jit and lax.scan\n",
    "\n",
    "trained_params = trainer.final_params\n",
    "plt.plot(trainer.losses) # plot the loss curve\n",
    "plt.show()"
   ]
  },
  {
   "cell_type": "markdown",
   "metadata": {},
   "source": [
    "This training process finds its global minimum at loss = -3.0, which is the minimum possible with the defined loss function."
   ]
  },
  {
   "cell_type": "markdown",
   "metadata": {},
   "source": [
    "## Generative machine learning tools\n",
    "\n",
    "The package contains a dedicated module ```gen_qml``` with functionality to train and evaluate generative models expressed as ```IqpSimulator``` circuits. Note that since sampling from IQP circuits is hard, these circuits may lead to advantages for generative machine learning tasks relative to classical models!"
   ]
  },
  {
   "cell_type": "markdown",
   "metadata": {},
   "source": [
    "### Training via the maximum mean discrepancy loss\n",
    "\n",
    "The Maximum Mean Discrepancy (MMD) [6] is an integral probability metric that measures the similarity between two probability distributions, and can serve as a loss function to train generative models.\n",
    "\n",
    "$$ \\text{MMD}^2(\\boldsymbol{\\theta}) = \\mathbb{E}_{\\boldsymbol{x},\\boldsymbol{y}\\sim q_{\\boldsymbol{\\theta}} }[k(\\boldsymbol{x},\\boldsymbol{y})] - 2  \\mathbb{E}_{\\boldsymbol{x} \\sim q_{\\boldsymbol{\\theta}},\\boldsymbol{y}\\sim p }[k(\\boldsymbol{x},\\boldsymbol{y})] + \\mathbb{E}_{\\boldsymbol{x},\\boldsymbol{y}\\sim p }[k(\\boldsymbol{x},\\boldsymbol{y})] \\,,$$\n",
    "\n",
    "Using a Gaussian kernel, it has one parameter called ```sigma```, the bandwidth of this kernel. This metric is usually calculated with samples from both probability distributions and we have an implementation ready for this case in the ```gen_qml``` module."
   ]
  },
  {
   "cell_type": "code",
   "execution_count": 18,
   "metadata": {},
   "outputs": [
    {
     "name": "stdout",
     "output_type": "stream",
     "text": [
      "0.005241733930102632\n"
     ]
    }
   ],
   "source": [
    "import iqpopt.gen_qml as genq\n",
    "from iqpopt.gen_qml.utils import median_heuristic\n",
    "\n",
    "n_bits = 100\n",
    "# toy datasets of low weight bitstrings\n",
    "X1 = np.random.binomial(1, 0.05, size=(100, n_bits))\n",
    "X2 = np.random.binomial(1, 0.07, size=(100, n_bits))\n",
    "\n",
    "sigma = median_heuristic(X1) # bandwidth for MMD\n",
    "\n",
    "mmd = genq.mmd_loss_samples(X1, X2, sigma)\n",
    "print(mmd)"
   ]
  },
  {
   "cell_type": "markdown",
   "metadata": {},
   "source": [
    "This metric can also be estimated efficiently with expectation values of PauliZ operators only [7]. This means that if we have an ```IqpSimulator``` object, we can also estiamte the MMD loss. \n",
    "\n",
    "The implementation in the ```gen_qml``` module only needs an additional parameter, ```n_ops```, that controls the accuracy of this value. For each of these ```n_ops```, an expectation value will be calculated with ```n_samples```. The higher the number of operators and samples, the better the precision.\n",
    "\n",
    "Let's see it in an example with 20 qubits:"
   ]
  },
  {
   "cell_type": "code",
   "execution_count": 19,
   "metadata": {},
   "outputs": [
    {
     "name": "stdout",
     "output_type": "stream",
     "text": [
      "0.8164965809277259\n",
      "0.022868065256672523\n"
     ]
    }
   ],
   "source": [
    "n_qubits = 20\n",
    "n_gates = 200\n",
    "\n",
    "# toy dataset of low weight bitstrings (from ground truth p)\n",
    "ground_truth = np.random.binomial(1, 0.2, size=(100, n_qubits))\n",
    "\n",
    "gates = []\n",
    "for _ in range(n_gates):\n",
    "    gen = list(np.random.choice(n_qubits, 2, replace=False)) # generators with bodyness 2\n",
    "    gates.append([gen])\n",
    "    \n",
    "circuit = iqp.IqpSimulator(n_qubits, gates)\n",
    "\n",
    "params = np.random.normal(0, 1/np.sqrt(n_qubits), len(gates))\n",
    "sigma = median_heuristic(ground_truth)/3 # bandwidth for MMD\n",
    "\n",
    "print(sigma)\n",
    "\n",
    "mmd = genq.mmd_loss_iqp(params,\n",
    "                       circuit,\n",
    "                       ground_truth,\n",
    "                       sigma,\n",
    "                       n_ops=1000,\n",
    "                       n_samples=1000,\n",
    "                       key=jax.random.PRNGKey(42))\n",
    "print(mmd)"
   ]
  },
  {
   "cell_type": "markdown",
   "metadata": {},
   "source": [
    "Now, similar to what we did a few sections back in *Optimizing a circuit*, this function can be used with a ```Trainer``` object to train a quantum generative model given as a parameterized IQP circuit.\n",
    "\n",
    "Using the last defined 20 qubits circuit:"
   ]
  },
  {
   "cell_type": "code",
   "execution_count": 20,
   "metadata": {},
   "outputs": [
    {
     "name": "stderr",
     "output_type": "stream",
     "text": [
      "Training Progress: 100%|██████████| 300/300 [00:04<00:00, 62.41it/s, loss=0.000100, elapsed time=0.14, total time=5.06]"
     ]
    },
    {
     "name": "stdout",
     "output_type": "stream",
     "text": [
      "Training has not converged after 300 steps\n"
     ]
    },
    {
     "name": "stderr",
     "output_type": "stream",
     "text": [
      "\n"
     ]
    },
    {
     "data": {
      "image/png": "[encoded data removed]",
      "text/plain": [
       "<Figure size 640x480 with 1 Axes>"
      ]
     },
     "metadata": {},
     "output_type": "display_data"
    }
   ],
   "source": [
    "X_train = np.random.binomial(1, 0.2, size=(1000, n_qubits))\n",
    "params_init = np.random.normal(0, 1/np.sqrt(n_qubits), len(gates))\n",
    "loss = genq.mmd_loss_iqp # MMD loss\n",
    "\n",
    "loss_kwargs = {\n",
    "    \"params\": params_init,\n",
    "    \"iqp_circuit\": circuit,\n",
    "    \"ground_truth\": X_train, # samples from ground truth distribution\n",
    "    \"sigma\": sigma,\n",
    "    \"n_ops\": 1000,\n",
    "    \"n_samples\": 1000,\n",
    "    \"key\": jax.random.PRNGKey(42),\n",
    "}\n",
    "\n",
    "trainer = iqp.Trainer(\"Adam\", loss, stepsize=0.01)\n",
    "trainer.train(n_iters=300, loss_kwargs=loss_kwargs, turbo=10) \n",
    "\n",
    "trained_params = trainer.final_params\n",
    "plt.plot(trainer.losses)\n",
    "plt.show()"
   ]
  },
  {
   "cell_type": "markdown",
   "metadata": {},
   "source": [
    "We can now try to see how well this generative IQP circuit resembles the ground truth. Since we are not working with a large number of qubits, we can sample from the circuit with the pennylane machinery. We can then compare our trained and untrained samples with the ground truth through a histogram of the bitstring weights and evaluate the distributions."
   ]
  },
  {
   "cell_type": "code",
   "execution_count": 21,
   "metadata": {},
   "outputs": [
    {
     "data": {
      "image/png": "[encoded data removed]",
      "text/plain": [
       "<Figure size 640x480 with 1 Axes>"
      ]
     },
     "metadata": {},
     "output_type": "display_data"
    }
   ],
   "source": [
    "samples_untrained = circuit.sample(params_init, 1000)\n",
    "plt.hist(np.sum(samples_untrained, axis=1), bins=20, range=[0,20])\n",
    "plt.title(\"Histogram of the untrained circuit\")\n",
    "plt.show()"
   ]
  },
  {
   "cell_type": "code",
   "execution_count": 22,
   "metadata": {},
   "outputs": [
    {
     "data": {
      "image/png": "[encoded data removed]",
      "text/plain": [
       "<Figure size 640x480 with 1 Axes>"
      ]
     },
     "metadata": {},
     "output_type": "display_data"
    }
   ],
   "source": [
    "samples_trained = circuit.sample(trainer.final_params, 1000)\n",
    "plt.hist(np.sum(samples_trained, axis=1), bins=20, range=[0,20])\n",
    "plt.title(\"Histogram of the trained circuit\")\n",
    "plt.show()"
   ]
  },
  {
   "cell_type": "code",
   "execution_count": 23,
   "metadata": {},
   "outputs": [
    {
     "data": {
      "image/png": "[encoded data removed]",
      "text/plain": [
       "<Figure size 640x480 with 1 Axes>"
      ]
     },
     "metadata": {},
     "output_type": "display_data"
    }
   ],
   "source": [
    "plt.hist(np.sum(X_train, axis=1), bins=20, range=[0,20])\n",
    "plt.title(\"Histogram of the ground truth\")\n",
    "plt.show()"
   ]
  },
  {
   "cell_type": "markdown",
   "metadata": {},
   "source": [
    "As we can see the trained circuit closely resembles the ground truth distribution. Although we won't cover it in this demo, the pacakge also contains tools to evaluate generative models and invtesigate model dropping via the Kernel Generalized Empirical Likelikood. \n",
    "\n",
    "As a final takeaway, we remark that IQPopt is perhaps the only tool for researchers analyze large circuits with potential advantages using numerical methods. By doing so, it opens up opportunities to explore systems that are too intricate for traditional pen-and-paper calculations and, as a result, it has the potential to uncover insights that were previously inaccessible."
   ]
  },
  {
   "cell_type": "markdown",
   "metadata": {},
   "source": [
    "References:\n",
    "\n",
    "[1] Erik Recio, Joseph Bowles. \"IQPopt: Fast optimization of instantaneous quantum polynomial circuits in JAX\".\n",
    "\n",
    "[2] Michael J Bremner, Richard Jozsa, and Dan J Shepherd. “Classical simulation of commuting quantum computations implies collapse of the polynomial hierarchy”. In: Proceedings of the Royal Society A: Mathematical, Physical and Engineering Sciences 467.2126 (2011), pp. 459–472 (page 1).\n",
    "\n",
    "[3] Michael J Bremner, Ashley Montanaro, and Dan J Shepherd. “Achieving quantum supremacy with sparse and noisy commuting quantum computations”. In: Quantum 1 (2017), p. 8 (page 1).\n",
    "\n",
    "[4] Dolev Bluvstein, Simon J Evered, Alexandra A Geim, Sophie H Li, Hengyun Zhou, Tom Manovitz, Sepehr Ebadi, Madelyn Cain, Marcin Kalinowski, Dominik Hangleiter, et al. “Logical quantum processor based on reconfigurable atom arrays”. In: Nature 626.7997 (2024), pp. 58–65 (pages 1, 2).\n",
    "\n",
    "[5] M. Van den Nest. 2Simulating quantum computers with probabilistic methods2. 2010. arXiv: 0911.1624 [quant-ph]. url: https://arxiv.org/abs/0911.1624 (pages 2, 5).\n",
    "\n",
    "[6] Arthur Gretton, Karsten M. Borgwardt, Malte J. Rasch, Bernhard Schölkopf, and Alexander Smola. “A Kernel Two-Sample Test”. In: Journal of Machine Learning Research 13.25 (2012), pp. 723–773. url: http://jmlr.org/papers/v13/gretton12a.html (page 14).\n",
    "\n",
    "[7] Erik Recio, Shahnawaz Ahmed, Joseph Bowles. \"How to train a 1000 qubit quantum generative model on a laptop\", in preparation\n",
    "\n",
    "[8] Suman Ravuri, Mélanie Rey, Shakir Mohamed, Marc Peter Deisenroth, \"Understanding Deep Generative Models with Generalized Empirical Likelihoods\" "
   ]
  }
 ],
 "metadata": {
  "kernelspec": {
   "display_name": "venv",
   "language": "python",
   "name": "python3"
  },
  "language_info": {
   "codemirror_mode": {
    "name": "ipython",
    "version": 3
   },
   "file_extension": ".py",
   "mimetype": "text/x-python",
   "name": "python",
   "nbconvert_exporter": "python",
   "pygments_lexer": "ipython3",
   "version": "3.10.11"
  }
 },
 "nbformat": 4,
 "nbformat_minor": 2
}
