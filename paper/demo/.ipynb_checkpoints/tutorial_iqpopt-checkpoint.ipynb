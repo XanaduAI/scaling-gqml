{
 "cells": [
  {
   "cell_type": "markdown",
   "metadata": {},
   "source": [
    "# IQPopt: Fast optimization of IQP circuits in JAX"
   ]
  },
  {
   "cell_type": "markdown",
   "metadata": {},
   "source": [
    "The Pennylane library offers the possibility of simulating any type of quantum circuit, but the resources needed always scale exponentially with the number of qubits. There are some classes of quantum citcuits that we know can be efficiently simulated, and this work attempts to fulfil part of this niche.\n",
    "\n",
    "IQPopt is a package designed for fast optimization of parameterized Instantaneous Quantum Polynomial (IQP) circuits using JAX, resulting in a linear scaling on the number of qubits. These circuits are a commonly studied class of quantum circuits comprised of commuting gates, for which we can efficiently evaluate expectation values of tensor Pauli operators, but have become well known due to a number of results related to the hardness of sampling their output distributions [1-3]. As a consequence, IQP circuits are prime candidates for potential quantum advantages for tasks related to sampling, and have been the focus of a number of theoretical [4-6] and experimental [7,8] works aiming towards this goal.\n",
    "\n",
    "In this demo we present the IQPopt package, which contains some tools that allow us to approximate expectation values of PauliZ operators for these circuits and, therefore, to evaluate them in generative optimization tasks."
   ]
  },
  {
   "cell_type": "markdown",
   "metadata": {},
   "source": [
    "![IQP circuit optimization](iqpopt_main.png)"
   ]
  },
  {
   "cell_type": "markdown",
   "metadata": {},
   "source": [
    "## Creating an IQP circuit with pennylane"
   ]
  },
  {
   "cell_type": "markdown",
   "metadata": {},
   "source": [
    "These are circuits comprised of gates $\\text{exp}(i\\theta_j X_j)$, where the generator $X_j$ is a tensor product of Pauli X operators acting on some subset of qubits and $\\theta_j$ is a trainable parameter. Input states and measurements are diagonal in the computational (Z) basis.\n",
    "\n",
    "To define such a circuit, we need a way to represent the parameterized gates. A set of gates will be specified by a list\n",
    "\n",
    "<center><code>gates = [gen1, gen2, gen3]</code></center>\n",
    "\n",
    "that contains the generators of the gates (each generator with an independent trainable parameter). Since all gates have Pauli X type generators, a generator will be represented by a list that specifies which qubits are acted on by an X operator. For example,\n",
    "\n",
    "\n",
    "<center><code>gen1 = [0,1]</code></center>\n",
    "\n",
    "corresponds to a gate with generator $X\\otimes X$ acting on the first two qubits of the circuit. For a three qubit system the corresponding parameterized gate is therefore $\\exp(i\\theta_1 X\\otimes X\\otimes \\mathbb{I})$.\n",
    "\n",
    "Here is how to prepare a three qubit circuit with all the possible single and two qubit gates\n",
    "\n",
    "<center><code>gates = [[0], [1], [2], [0,1], [0,2], [1,2]]</code></center>\n",
    "\n",
    "In order to be more general and have more than one generator with the same trainable parameter, we are going to group the generators with a tuple. Therefore, if the first and second generators share the same parameter, then\n",
    "\n",
    "<center><code>gates = [([0], [1]), ([2],), ([0,1],), ([0,2],), ([1,2],)]</code></center>\n",
    "\n",
    "As we can see, the rest of the generators are alone in their own tuple. This would be the final form of our gates parameter, which will define our circuit from now on.\n",
    "\n",
    "Let's now put it in practice and build a pennylane circuit out of this ```gates``` parameter. The circuit will be build thanks to the following identity:\n",
    "\n",
    "$$\\text{exp}(i\\theta_j X_j) = H^{\\otimes n} \\text{exp}(i\\theta_j Z_j) H^{\\otimes n}$$\n",
    "\n",
    "where $H$ is the Hadamard matrix and $Z_j$ is the same tensor product of Paulis, but now instead of Pauli X there are Pauli Z with the corresponding identities.\n",
    "\n",
    "Our pennyalne circuit (with input state $\\vert 0 \\rangle$) would therefore be the following."
   ]
  },
  {
   "cell_type": "code",
   "execution_count": 2,
   "metadata": {},
   "outputs": [],
   "source": [
    "import pennylane as qml\n",
    "import numpy as np\n",
    "\n",
    "def penn_iqp_gates(params: np.ndarray, gates: list, n_qubits: int):\n",
    "    \"\"\"IQP circuit in pennylane form.\n",
    "\n",
    "    Args:\n",
    "        params (np.ndarray): The parameters of the IQP gates.\n",
    "        gates (list): The gates representation of the IQP circuit.\n",
    "        n_qubits (int): The total number of qubits in the circuit.\n",
    "    \"\"\"\n",
    "\n",
    "    for i in range(n_qubits):\n",
    "        qml.Hadamard(i)\n",
    "\n",
    "    for par, gate in zip(params, gates):\n",
    "        for gen in gate:\n",
    "            qml.MultiRZ(2*par, wires=gen)\n",
    "\n",
    "    for i in range(n_qubits):\n",
    "        qml.Hadamard(i)"
   ]
  },
  {
   "cell_type": "markdown",
   "metadata": {},
   "source": [
    "Now, we want to measure our circuit. As we said, all measurements are diagonal in the computational (Z) basis, and we will therefore represent them with a bitstring. 1s, wherever there are Pauli Z, and 0s, wherever there are identities. In this way, an operator such as:\n",
    "\n",
    "$$O = Z \\otimes I \\otimes Z$$\n",
    "\n",
    "will be converted to\n",
    "\n",
    "<center><code>op = [1,0,1]</code></center>\n",
    "\n",
    "The final circuit that allow us to measure these type of expectation values is the following."
   ]
  },
  {
   "cell_type": "code",
   "execution_count": 3,
   "metadata": {},
   "outputs": [],
   "source": [
    "def penn_obs(op: np.ndarray) -> qml.operation.Observable:\n",
    "    \"\"\"Returns a pennylane observable from a bitstring representation.\n",
    "\n",
    "    Args:\n",
    "        op (np.ndarray): Bitstring representation of the Z operator.\n",
    "\n",
    "    Returns:\n",
    "        qml.Observable: Pennylane observable.\n",
    "    \"\"\"\n",
    "    for i, z in enumerate(op):\n",
    "        if i==0:\n",
    "            if z:\n",
    "                obs = qml.Z(i)\n",
    "            else:\n",
    "                obs = qml.I(i)\n",
    "        else:\n",
    "            if z:\n",
    "                obs @= qml.Z(i)\n",
    "    return obs\n",
    "\n",
    "def penn_iqp_circuit(params: np.ndarray, gates: list, op: np.ndarray, n_qubits: int) -> qml.measurements.ExpectationMP:\n",
    "    \"\"\"Defines the circuit that calculates the expectation value of the operator with the IQP circuit with pennylane tools.\n",
    "\n",
    "    Args:\n",
    "        params (np.ndarray): The parameters of the IQP gates.\n",
    "        gates (list): The gates representation of the IQP circuit.\n",
    "        op (np.ndarray): Bitstring representation of the Z operator.\n",
    "        n_qubits (int): The total number of qubits in the circuit.\n",
    "\n",
    "    Returns:\n",
    "        qml.measurements.ExpectationMP: Pennylane circuit with an expectation value.\n",
    "    \"\"\"\n",
    "    penn_iqp_gates(params, gates, n_qubits)\n",
    "    obs = penn_obs(op)\n",
    "    return qml.expval(obs)\n",
    "\n",
    "def penn_iqp_op_expval(params: np.ndarray, gates: list, op: np.ndarray, n_qubits: int) -> float:\n",
    "    \"\"\"Calculates the expectation value of the operator with the IQP circuit with pennylane tools.\n",
    "\n",
    "    Args:\n",
    "        params (np.ndarray): The parameters of the IQP gates.\n",
    "        gates (list): The gates representation of the IQP circuit.\n",
    "        op (np.ndarray): Bitstring representation of the Z operator.\n",
    "        n_qubits (int): The total number of qubits in the circuit.\n",
    "\n",
    "    Returns:\n",
    "        float: Expectation value.\n",
    "    \"\"\"\n",
    "    dev = qml.device(\"lightning.qubit\", wires=n_qubits)\n",
    "    penn_iqp_circuit_exe = qml.QNode(penn_iqp_circuit, dev)\n",
    "    return penn_iqp_circuit_exe(params, gates, op, n_qubits)"
   ]
  },
  {
   "cell_type": "markdown",
   "metadata": {},
   "source": [
    "With this, we can now calculate all expectation values of Pauli Z tensors of any IQP circuit we can think of. Let's see an example."
   ]
  },
  {
   "cell_type": "code",
   "execution_count": 4,
   "metadata": {},
   "outputs": [
    {
     "name": "stdout",
     "output_type": "stream",
     "text": [
      "-0.1667077082401539\n"
     ]
    }
   ],
   "source": [
    "n_qubits = 3\n",
    "gates = [([0], [1]), ([2],), ([0,1],), ([0,2],), ([1,2],)] # same gates as in the example above\n",
    "op = np.array([1,0,1]) # operator ZIZ\n",
    "params = np.random.rand(len(gates)) # random parameters for all the gates (remember we have 5 gates with 6 generators in total)\n",
    "\n",
    "penn_op_expval = penn_iqp_op_expval(params, gates, op, n_qubits)\n",
    "print(penn_op_expval)"
   ]
  },
  {
   "cell_type": "markdown",
   "metadata": {},
   "source": [
    "## Estimating expectation values with IQPopt\n",
    "\n",
    "With this new package we can perform the same calculations our pennylane circuit above is able to do. Although, this time, only with approximations instead of exact values. The gain is that we can work with a very large amount of qubits.\n",
    "\n",
    "After some calculations, one can arrive at the following expression when calculating the expectation value of any tensor product of Pauli Z operators\n",
    "\n",
    "$$\\langle Z_{\\boldsymbol{a}} \\rangle = \\mathbb{E}_{\\boldsymbol{z}\\sim U}\\Big[ \\cos\\Big(\\sum_j \\theta_{j}(-1)^{\\boldsymbol{g}_{j}\\cdot \\boldsymbol{z}}(1-(-1)^{\\boldsymbol{g}_j\\cdot \\boldsymbol{a}}\\Big) \\Big],$$\n",
    "\n",
    "where $\\boldsymbol{a}$ is the bitstring form of the operator we want to calculate the expectation value of, $\\boldsymbol{z}$ are bitstring samples from the multi-qubit system taken from the uniform distribution, $\\theta_{j}$ are the trainable parameters and $\\boldsymbol{g}_{j}$ are the different generators also in bitstring form. The dots are dot products between the bitstrings taken as vectors of 1s and 0s.\n",
    "\n",
    "We could classically calculate this expression exactly, but it would require an exponentially large amount of $\\boldsymbol{z}$ samples with the increasing number of qubits. To aliviate this, we can replace the expectation with an empirical mean and compute an unbiased estimate of $\\langle Z_{\\boldsymbol{a}} \\rangle$ efficiently. That is, if we sample a batch of $s$ bitstrings $\\{\\boldsymbol{z}_i\\}$ from the uniform distribution and compute the sample mean\n",
    "\n",
    "$$\\hat{\\langle Z_{\\boldsymbol{a}}\\rangle} = \\frac{1}{s}\\sum_{i}\\cos\\Big(\\sum_j \\theta_j(-1)^{\\boldsymbol{g}_j\\cdot \\boldsymbol{z}_i}(1-(-1)^{\\boldsymbol{g}_j\\cdot \\boldsymbol{a}})\\Big),$$\n",
    "\n",
    "we obtain an unbiased estimate $\\hat{\\langle Z_{\\boldsymbol{a}}\\rangle}$ of $\\langle Z_{\\boldsymbol{a}}\\rangle$; i.e. we have that $\\mathbb{E}[\\hat{\\langle Z_{\\boldsymbol{a}}\\rangle}] = \\langle Z_{\\boldsymbol{a}}\\rangle$. The error of this approximation is well known since, by the central limit theorem, the standard deviation of the sample mean of a bounded random variable decreases as $\\mathcal{O}(1/\\sqrt{s})$.\n",
    "\n",
    "\n",
    "Let's see now how to use the IQPopt package to calculate expectation values, using the same arguments we used in the previous example. First, we create the circuit object with ```IqpSimulator``` only with the number of qubits of the circuit and the ```gates``` parameter already explained:"
   ]
  },
  {
   "cell_type": "code",
   "execution_count": 5,
   "metadata": {},
   "outputs": [],
   "source": [
    "import iqpopt as iqp\n",
    "\n",
    "small_circuit = iqp.IqpSimulator(n_qubits, gates)"
   ]
  },
  {
   "cell_type": "markdown",
   "metadata": {},
   "source": [
    "Now, we use the class method ```IqpSimulator.op_expval()```, which is the one that provides these estimates. This function requires a parameter array ```params```, a PauliZ operator specified by its binary representation ```op```, a new parameter ```n_samples``` (the number of samples $s$) that controls the precision of the approximation (the more the better), and a JAX pseudo random number generator key to seed the randomness of the sampling. It returns the expectation value estimate as well as its standard error.\n",
    "\n",
    "Using the same ```params``` and ```op``` as before:"
   ]
  },
  {
   "cell_type": "code",
   "execution_count": 6,
   "metadata": {},
   "outputs": [
    {
     "name": "stdout",
     "output_type": "stream",
     "text": [
      "[-0.1430335] [0.01627505]\n"
     ]
    }
   ],
   "source": [
    "import jax\n",
    "\n",
    "n_samples = 1000\n",
    "key = jax.random.PRNGKey(42)\n",
    "\n",
    "expval, std = small_circuit.op_expval(params, op, n_samples, key)\n",
    "\n",
    "print(expval, std)"
   ]
  },
  {
   "cell_type": "markdown",
   "metadata": {},
   "source": [
    "Since the calculation on ```iqpopt```'s side is stochastic, the result is not exactly the same than the one obtained with pennylane. But, as we can see, they are within std error. You can try increasing ```n_samples``` in order to obtain closer approximations.\n",
    "\n",
    "This function also allows for fast batch evaluation of expectation values. If we specify a batch of operators ```ops``` by an array, we can batch evaluate the expectation values and errors in parallel with the same syntax."
   ]
  },
  {
   "cell_type": "code",
   "execution_count": 7,
   "metadata": {},
   "outputs": [
    {
     "name": "stdout",
     "output_type": "stream",
     "text": [
      "[ 0.58743721 -0.22695897 -0.19676874] [0.01284813 0.01761174 0.02041475]\n"
     ]
    }
   ],
   "source": [
    "ops = np.array([[1,0,0],[0,1,0],[0,0,1]]) # batch of single qubit Pauli Zs\n",
    "\n",
    "expvals, stds = small_circuit.op_expval(params, ops, n_samples, key)\n",
    "\n",
    "print(expvals, stds)"
   ]
  },
  {
   "cell_type": "markdown",
   "metadata": {},
   "source": [
    "With pennylane it would be very time consuming to pass the 30 qubit mark, but with IQPopt, we can easily go way further than that."
   ]
  },
  {
   "cell_type": "code",
   "execution_count": 8,
   "metadata": {},
   "outputs": [
    {
     "name": "stdout",
     "output_type": "stream",
     "text": [
      "[0.05147802] [0.02221222]\n"
     ]
    }
   ],
   "source": [
    "from iqpopt.utils import local_gates\n",
    "\n",
    "n_qubits = 1000\n",
    "gates = local_gates(n_qubits, 1) # 1000 single qubit generators with independent trainable parameters\n",
    "\n",
    "large_circuit = iqp.IqpSimulator(n_qubits, gates)\n",
    "\n",
    "params = np.random.rand(len(gates))\n",
    "op = np.random.randint(0, 2, n_qubits)\n",
    "n_samples = 1000\n",
    "key = jax.random.PRNGKey(42)\n",
    "\n",
    "expval, std = large_circuit.op_expval(params, op, n_samples, key)\n",
    "\n",
    "print(expval, std)"
   ]
  },
  {
   "cell_type": "markdown",
   "metadata": {},
   "source": [
    "## Sampling and probabilities"
   ]
  },
  {
   "cell_type": "markdown",
   "metadata": {},
   "source": [
    "We can also view a parameterized IQP circuit as a generative model that generates samples of binary vectors according to the distribution\n",
    "\n",
    "$$q_{\\boldsymbol{\\theta}}(\\boldsymbol{x}) \\equiv q(\\boldsymbol{x}\\vert\\boldsymbol{\\theta})=\\vert\\bra{\\boldsymbol{x}}U(\\boldsymbol{\\theta})\\ket{0}\\vert^2.$$\n",
    "\n",
    "Where $U(\\boldsymbol{\\theta})$ is the parametrized IQP gates. For a low amount of qubits, we can use Pennylane's arsenal and know the output probabilities of the circuit as well as sample from it. Note that there is not an efficient algorithm to do these, so, for large numbers of qubits, these methods will either take too long or not work at all.\n",
    "\n",
    "These functions are already implemented in the ```IqpSimulator``` object. The ```.probs()``` method works as it does in pennylane, the returned array of probabilities is in lexicographic order."
   ]
  },
  {
   "cell_type": "code",
   "execution_count": 13,
   "metadata": {},
   "outputs": [
    {
     "name": "stdout",
     "output_type": "stream",
     "text": [
      "[1 1 0]\n",
      "[0.74183556 0.06561547 0.00321717 0.01326932 0.00259681 0.01087554\n",
      " 0.1467122  0.01587792]\n"
     ]
    }
   ],
   "source": [
    "sample = small_circuit.sample(params, shots=1)\n",
    "print(sample)\n",
    "\n",
    "probabilities = small_circuit.probs(params)\n",
    "print(probabilities)"
   ]
  },
  {
   "cell_type": "code",
   "execution_count": 14,
   "metadata": {},
   "outputs": [
    {
     "ename": "MemoryError",
     "evalue": "bad allocation",
     "output_type": "error",
     "traceback": [
      "\u001b[1;31m---------------------------------------------------------------------------\u001b[0m",
      "\u001b[1;31mMemoryError\u001b[0m                               Traceback (most recent call last)",
      "Cell \u001b[1;32mIn[14], line 1\u001b[0m\n\u001b[1;32m----> 1\u001b[0m sample \u001b[38;5;241m=\u001b[39m \u001b[43mlarge_circuit\u001b[49m\u001b[38;5;241;43m.\u001b[39;49m\u001b[43msample\u001b[49m\u001b[43m(\u001b[49m\u001b[43mparams\u001b[49m\u001b[43m,\u001b[49m\u001b[43m \u001b[49m\u001b[43mshots\u001b[49m\u001b[38;5;241;43m=\u001b[39;49m\u001b[38;5;241;43m1\u001b[39;49m\u001b[43m)\u001b[49m\n\u001b[0;32m      2\u001b[0m \u001b[38;5;28mprint\u001b[39m(sample)\n",
      "File \u001b[1;32mD:\\Github\\iqpopt\\src\\iqpopt\\iqp_optimizer.py:182\u001b[0m, in \u001b[0;36mIqpSimulator.sample\u001b[1;34m(self, params, shots)\u001b[0m\n\u001b[0;32m    179\u001b[0m     \u001b[38;5;28;01mreturn\u001b[39;00m samples\n\u001b[0;32m    181\u001b[0m \u001b[38;5;28;01melse\u001b[39;00m:\n\u001b[1;32m--> 182\u001b[0m     dev \u001b[38;5;241m=\u001b[39m \u001b[43mqml\u001b[49m\u001b[38;5;241;43m.\u001b[39;49m\u001b[43mdevice\u001b[49m\u001b[43m(\u001b[49m\u001b[38;5;28;43mself\u001b[39;49m\u001b[38;5;241;43m.\u001b[39;49m\u001b[43mdevice\u001b[49m\u001b[43m,\u001b[49m\u001b[43m \u001b[49m\u001b[43mwires\u001b[49m\u001b[38;5;241;43m=\u001b[39;49m\u001b[38;5;28;43mself\u001b[39;49m\u001b[38;5;241;43m.\u001b[39;49m\u001b[43mn_qubits\u001b[49m\u001b[43m,\u001b[49m\u001b[43m \u001b[49m\u001b[43mshots\u001b[49m\u001b[38;5;241;43m=\u001b[39;49m\u001b[43mshots\u001b[49m\u001b[43m)\u001b[49m\n\u001b[0;32m    184\u001b[0m     \u001b[38;5;129m@qml\u001b[39m\u001b[38;5;241m.\u001b[39mqnode(dev)\n\u001b[0;32m    185\u001b[0m     \u001b[38;5;28;01mdef\u001b[39;00m \u001b[38;5;21msample_circuit\u001b[39m(params):\n\u001b[0;32m    186\u001b[0m         \u001b[38;5;28mself\u001b[39m\u001b[38;5;241m.\u001b[39miqp_circuit(params)\n",
      "File \u001b[1;32md:\\Github\\venv\\Lib\\site-packages\\pennylane\\__init__.py:393\u001b[0m, in \u001b[0;36mdevice\u001b[1;34m(name, *args, **kwargs)\u001b[0m\n\u001b[0;32m    387\u001b[0m     \u001b[38;5;28;01mraise\u001b[39;00m DeviceError(\n\u001b[0;32m    388\u001b[0m         \u001b[38;5;124mf\u001b[39m\u001b[38;5;124m\"\u001b[39m\u001b[38;5;124mThe \u001b[39m\u001b[38;5;132;01m{\u001b[39;00mname\u001b[38;5;132;01m}\u001b[39;00m\u001b[38;5;124m plugin requires PennyLane versions \u001b[39m\u001b[38;5;132;01m{\u001b[39;00mplugin_device_class\u001b[38;5;241m.\u001b[39mpennylane_requires\u001b[38;5;132;01m}\u001b[39;00m\u001b[38;5;124m, \u001b[39m\u001b[38;5;124m\"\u001b[39m\n\u001b[0;32m    389\u001b[0m         \u001b[38;5;124mf\u001b[39m\u001b[38;5;124m\"\u001b[39m\u001b[38;5;124mhowever PennyLane version \u001b[39m\u001b[38;5;132;01m{\u001b[39;00m__version__\u001b[38;5;132;01m}\u001b[39;00m\u001b[38;5;124m is installed.\u001b[39m\u001b[38;5;124m\"\u001b[39m\n\u001b[0;32m    390\u001b[0m     )\n\u001b[0;32m    392\u001b[0m \u001b[38;5;66;03m# Construct the device\u001b[39;00m\n\u001b[1;32m--> 393\u001b[0m dev \u001b[38;5;241m=\u001b[39m \u001b[43mplugin_device_class\u001b[49m\u001b[43m(\u001b[49m\u001b[38;5;241;43m*\u001b[39;49m\u001b[43margs\u001b[49m\u001b[43m,\u001b[49m\u001b[43m \u001b[49m\u001b[38;5;241;43m*\u001b[39;49m\u001b[38;5;241;43m*\u001b[39;49m\u001b[43moptions\u001b[49m\u001b[43m)\u001b[49m\n\u001b[0;32m    395\u001b[0m \u001b[38;5;66;03m# Once the device is constructed, we set its custom expansion function if\u001b[39;00m\n\u001b[0;32m    396\u001b[0m \u001b[38;5;66;03m# any custom decompositions were specified.\u001b[39;00m\n\u001b[0;32m    397\u001b[0m \u001b[38;5;28;01mif\u001b[39;00m custom_decomps \u001b[38;5;129;01mis\u001b[39;00m \u001b[38;5;129;01mnot\u001b[39;00m \u001b[38;5;28;01mNone\u001b[39;00m:\n",
      "File \u001b[1;32md:\\Github\\venv\\Lib\\site-packages\\pennylane_lightning\\lightning_qubit\\lightning_qubit.py:479\u001b[0m, in \u001b[0;36mLightningQubit.__init__\u001b[1;34m(self, wires, c_dtype, shots, seed, mcmc, kernel_name, num_burnin, batch_obs)\u001b[0m\n\u001b[0;32m    476\u001b[0m \u001b[38;5;28;01melse\u001b[39;00m:\n\u001b[0;32m    477\u001b[0m     \u001b[38;5;28mself\u001b[39m\u001b[38;5;241m.\u001b[39m_wire_map \u001b[38;5;241m=\u001b[39m {w: i \u001b[38;5;28;01mfor\u001b[39;00m i, w \u001b[38;5;129;01min\u001b[39;00m \u001b[38;5;28menumerate\u001b[39m(\u001b[38;5;28mself\u001b[39m\u001b[38;5;241m.\u001b[39mwires)}\n\u001b[1;32m--> 479\u001b[0m \u001b[38;5;28mself\u001b[39m\u001b[38;5;241m.\u001b[39m_statevector \u001b[38;5;241m=\u001b[39m \u001b[43mLightningStateVector\u001b[49m\u001b[43m(\u001b[49m\u001b[43mnum_wires\u001b[49m\u001b[38;5;241;43m=\u001b[39;49m\u001b[38;5;28;43mlen\u001b[39;49m\u001b[43m(\u001b[49m\u001b[38;5;28;43mself\u001b[39;49m\u001b[38;5;241;43m.\u001b[39;49m\u001b[43mwires\u001b[49m\u001b[43m)\u001b[49m\u001b[43m,\u001b[49m\u001b[43m \u001b[49m\u001b[43mdtype\u001b[49m\u001b[38;5;241;43m=\u001b[39;49m\u001b[43mc_dtype\u001b[49m\u001b[43m)\u001b[49m\n\u001b[0;32m    481\u001b[0m \u001b[38;5;66;03m# TODO: Investigate usefulness of creating numpy random generator\u001b[39;00m\n\u001b[0;32m    482\u001b[0m seed \u001b[38;5;241m=\u001b[39m np\u001b[38;5;241m.\u001b[39mrandom\u001b[38;5;241m.\u001b[39mrandint(\u001b[38;5;241m0\u001b[39m, high\u001b[38;5;241m=\u001b[39m\u001b[38;5;241m10000000\u001b[39m) \u001b[38;5;28;01mif\u001b[39;00m seed \u001b[38;5;241m==\u001b[39m \u001b[38;5;124m\"\u001b[39m\u001b[38;5;124mglobal\u001b[39m\u001b[38;5;124m\"\u001b[39m \u001b[38;5;28;01melse\u001b[39;00m seed\n",
      "File \u001b[1;32md:\\Github\\venv\\Lib\\site-packages\\pennylane_lightning\\lightning_qubit\\_state_vector.py:65\u001b[0m, in \u001b[0;36mLightningStateVector.__init__\u001b[1;34m(self, num_wires, dtype, device_name)\u001b[0m\n\u001b[0;32m     62\u001b[0m     \u001b[38;5;28;01mraise\u001b[39;00m DeviceError(\u001b[38;5;124mf\u001b[39m\u001b[38;5;124m'\u001b[39m\u001b[38;5;124mThe device name \u001b[39m\u001b[38;5;124m\"\u001b[39m\u001b[38;5;132;01m{\u001b[39;00mdevice_name\u001b[38;5;132;01m}\u001b[39;00m\u001b[38;5;124m\"\u001b[39m\u001b[38;5;124m is not a valid option.\u001b[39m\u001b[38;5;124m'\u001b[39m)\n\u001b[0;32m     64\u001b[0m \u001b[38;5;28mself\u001b[39m\u001b[38;5;241m.\u001b[39m_device_name \u001b[38;5;241m=\u001b[39m device_name\n\u001b[1;32m---> 65\u001b[0m \u001b[38;5;28mself\u001b[39m\u001b[38;5;241m.\u001b[39m_qubit_state \u001b[38;5;241m=\u001b[39m \u001b[38;5;28;43mself\u001b[39;49m\u001b[38;5;241;43m.\u001b[39;49m\u001b[43m_state_dtype\u001b[49m\u001b[43m(\u001b[49m\u001b[43m)\u001b[49m\u001b[43m(\u001b[49m\u001b[38;5;28;43mself\u001b[39;49m\u001b[38;5;241;43m.\u001b[39;49m\u001b[43m_num_wires\u001b[49m\u001b[43m)\u001b[49m\n",
      "\u001b[1;31mMemoryError\u001b[0m: bad allocation"
     ]
    }
   ],
   "source": [
    "sample = large_circuit.sample(params, shots=1)\n",
    "print(sample)"
   ]
  },
  {
   "cell_type": "code",
   "execution_count": 15,
   "metadata": {},
   "outputs": [
    {
     "ename": "MemoryError",
     "evalue": "bad allocation",
     "output_type": "error",
     "traceback": [
      "\u001b[1;31m---------------------------------------------------------------------------\u001b[0m",
      "\u001b[1;31mMemoryError\u001b[0m                               Traceback (most recent call last)",
      "Cell \u001b[1;32mIn[15], line 1\u001b[0m\n\u001b[1;32m----> 1\u001b[0m probabilities \u001b[38;5;241m=\u001b[39m \u001b[43mlarge_circuit\u001b[49m\u001b[38;5;241;43m.\u001b[39;49m\u001b[43mprobs\u001b[49m\u001b[43m(\u001b[49m\u001b[43mparams\u001b[49m\u001b[43m)\u001b[49m\n\u001b[0;32m      2\u001b[0m \u001b[38;5;28mprint\u001b[39m(probabilities)\n",
      "File \u001b[1;32mD:\\Github\\iqpopt\\src\\iqpopt\\iqp_optimizer.py:203\u001b[0m, in \u001b[0;36mIqpSimulator.probs\u001b[1;34m(self, params)\u001b[0m\n\u001b[0;32m    200\u001b[0m \u001b[38;5;28;01mif\u001b[39;00m \u001b[38;5;28mself\u001b[39m\u001b[38;5;241m.\u001b[39mbitflip:\n\u001b[0;32m    201\u001b[0m     \u001b[38;5;28;01mraise\u001b[39;00m \u001b[38;5;167;01mNotImplementedError\u001b[39;00m(\n\u001b[0;32m    202\u001b[0m         \u001b[38;5;124m\"\u001b[39m\u001b[38;5;124mprobs not implemented for bitflip circuits\u001b[39m\u001b[38;5;124m\"\u001b[39m)\n\u001b[1;32m--> 203\u001b[0m dev \u001b[38;5;241m=\u001b[39m \u001b[43mqml\u001b[49m\u001b[38;5;241;43m.\u001b[39;49m\u001b[43mdevice\u001b[49m\u001b[43m(\u001b[49m\u001b[38;5;28;43mself\u001b[39;49m\u001b[38;5;241;43m.\u001b[39;49m\u001b[43mdevice\u001b[49m\u001b[43m,\u001b[49m\u001b[43m \u001b[49m\u001b[43mwires\u001b[49m\u001b[38;5;241;43m=\u001b[39;49m\u001b[38;5;28;43mself\u001b[39;49m\u001b[38;5;241;43m.\u001b[39;49m\u001b[43mn_qubits\u001b[49m\u001b[43m)\u001b[49m\n\u001b[0;32m    205\u001b[0m \u001b[38;5;129m@qml\u001b[39m\u001b[38;5;241m.\u001b[39mqnode(dev)\n\u001b[0;32m    206\u001b[0m \u001b[38;5;28;01mdef\u001b[39;00m \u001b[38;5;21mprobs_circuit\u001b[39m(params):\n\u001b[0;32m    207\u001b[0m     \u001b[38;5;28mself\u001b[39m\u001b[38;5;241m.\u001b[39miqp_circuit(params)\n",
      "File \u001b[1;32md:\\Github\\venv\\Lib\\site-packages\\pennylane\\__init__.py:393\u001b[0m, in \u001b[0;36mdevice\u001b[1;34m(name, *args, **kwargs)\u001b[0m\n\u001b[0;32m    387\u001b[0m     \u001b[38;5;28;01mraise\u001b[39;00m DeviceError(\n\u001b[0;32m    388\u001b[0m         \u001b[38;5;124mf\u001b[39m\u001b[38;5;124m\"\u001b[39m\u001b[38;5;124mThe \u001b[39m\u001b[38;5;132;01m{\u001b[39;00mname\u001b[38;5;132;01m}\u001b[39;00m\u001b[38;5;124m plugin requires PennyLane versions \u001b[39m\u001b[38;5;132;01m{\u001b[39;00mplugin_device_class\u001b[38;5;241m.\u001b[39mpennylane_requires\u001b[38;5;132;01m}\u001b[39;00m\u001b[38;5;124m, \u001b[39m\u001b[38;5;124m\"\u001b[39m\n\u001b[0;32m    389\u001b[0m         \u001b[38;5;124mf\u001b[39m\u001b[38;5;124m\"\u001b[39m\u001b[38;5;124mhowever PennyLane version \u001b[39m\u001b[38;5;132;01m{\u001b[39;00m__version__\u001b[38;5;132;01m}\u001b[39;00m\u001b[38;5;124m is installed.\u001b[39m\u001b[38;5;124m\"\u001b[39m\n\u001b[0;32m    390\u001b[0m     )\n\u001b[0;32m    392\u001b[0m \u001b[38;5;66;03m# Construct the device\u001b[39;00m\n\u001b[1;32m--> 393\u001b[0m dev \u001b[38;5;241m=\u001b[39m \u001b[43mplugin_device_class\u001b[49m\u001b[43m(\u001b[49m\u001b[38;5;241;43m*\u001b[39;49m\u001b[43margs\u001b[49m\u001b[43m,\u001b[49m\u001b[43m \u001b[49m\u001b[38;5;241;43m*\u001b[39;49m\u001b[38;5;241;43m*\u001b[39;49m\u001b[43moptions\u001b[49m\u001b[43m)\u001b[49m\n\u001b[0;32m    395\u001b[0m \u001b[38;5;66;03m# Once the device is constructed, we set its custom expansion function if\u001b[39;00m\n\u001b[0;32m    396\u001b[0m \u001b[38;5;66;03m# any custom decompositions were specified.\u001b[39;00m\n\u001b[0;32m    397\u001b[0m \u001b[38;5;28;01mif\u001b[39;00m custom_decomps \u001b[38;5;129;01mis\u001b[39;00m \u001b[38;5;129;01mnot\u001b[39;00m \u001b[38;5;28;01mNone\u001b[39;00m:\n",
      "File \u001b[1;32md:\\Github\\venv\\Lib\\site-packages\\pennylane_lightning\\lightning_qubit\\lightning_qubit.py:479\u001b[0m, in \u001b[0;36mLightningQubit.__init__\u001b[1;34m(self, wires, c_dtype, shots, seed, mcmc, kernel_name, num_burnin, batch_obs)\u001b[0m\n\u001b[0;32m    476\u001b[0m \u001b[38;5;28;01melse\u001b[39;00m:\n\u001b[0;32m    477\u001b[0m     \u001b[38;5;28mself\u001b[39m\u001b[38;5;241m.\u001b[39m_wire_map \u001b[38;5;241m=\u001b[39m {w: i \u001b[38;5;28;01mfor\u001b[39;00m i, w \u001b[38;5;129;01min\u001b[39;00m \u001b[38;5;28menumerate\u001b[39m(\u001b[38;5;28mself\u001b[39m\u001b[38;5;241m.\u001b[39mwires)}\n\u001b[1;32m--> 479\u001b[0m \u001b[38;5;28mself\u001b[39m\u001b[38;5;241m.\u001b[39m_statevector \u001b[38;5;241m=\u001b[39m \u001b[43mLightningStateVector\u001b[49m\u001b[43m(\u001b[49m\u001b[43mnum_wires\u001b[49m\u001b[38;5;241;43m=\u001b[39;49m\u001b[38;5;28;43mlen\u001b[39;49m\u001b[43m(\u001b[49m\u001b[38;5;28;43mself\u001b[39;49m\u001b[38;5;241;43m.\u001b[39;49m\u001b[43mwires\u001b[49m\u001b[43m)\u001b[49m\u001b[43m,\u001b[49m\u001b[43m \u001b[49m\u001b[43mdtype\u001b[49m\u001b[38;5;241;43m=\u001b[39;49m\u001b[43mc_dtype\u001b[49m\u001b[43m)\u001b[49m\n\u001b[0;32m    481\u001b[0m \u001b[38;5;66;03m# TODO: Investigate usefulness of creating numpy random generator\u001b[39;00m\n\u001b[0;32m    482\u001b[0m seed \u001b[38;5;241m=\u001b[39m np\u001b[38;5;241m.\u001b[39mrandom\u001b[38;5;241m.\u001b[39mrandint(\u001b[38;5;241m0\u001b[39m, high\u001b[38;5;241m=\u001b[39m\u001b[38;5;241m10000000\u001b[39m) \u001b[38;5;28;01mif\u001b[39;00m seed \u001b[38;5;241m==\u001b[39m \u001b[38;5;124m\"\u001b[39m\u001b[38;5;124mglobal\u001b[39m\u001b[38;5;124m\"\u001b[39m \u001b[38;5;28;01melse\u001b[39;00m seed\n",
      "File \u001b[1;32md:\\Github\\venv\\Lib\\site-packages\\pennylane_lightning\\lightning_qubit\\_state_vector.py:65\u001b[0m, in \u001b[0;36mLightningStateVector.__init__\u001b[1;34m(self, num_wires, dtype, device_name)\u001b[0m\n\u001b[0;32m     62\u001b[0m     \u001b[38;5;28;01mraise\u001b[39;00m DeviceError(\u001b[38;5;124mf\u001b[39m\u001b[38;5;124m'\u001b[39m\u001b[38;5;124mThe device name \u001b[39m\u001b[38;5;124m\"\u001b[39m\u001b[38;5;132;01m{\u001b[39;00mdevice_name\u001b[38;5;132;01m}\u001b[39;00m\u001b[38;5;124m\"\u001b[39m\u001b[38;5;124m is not a valid option.\u001b[39m\u001b[38;5;124m'\u001b[39m)\n\u001b[0;32m     64\u001b[0m \u001b[38;5;28mself\u001b[39m\u001b[38;5;241m.\u001b[39m_device_name \u001b[38;5;241m=\u001b[39m device_name\n\u001b[1;32m---> 65\u001b[0m \u001b[38;5;28mself\u001b[39m\u001b[38;5;241m.\u001b[39m_qubit_state \u001b[38;5;241m=\u001b[39m \u001b[38;5;28;43mself\u001b[39;49m\u001b[38;5;241;43m.\u001b[39;49m\u001b[43m_state_dtype\u001b[49m\u001b[43m(\u001b[49m\u001b[43m)\u001b[49m\u001b[43m(\u001b[49m\u001b[38;5;28;43mself\u001b[39;49m\u001b[38;5;241;43m.\u001b[39;49m\u001b[43m_num_wires\u001b[49m\u001b[43m)\u001b[49m\n",
      "\u001b[1;31mMemoryError\u001b[0m: bad allocation"
     ]
    }
   ],
   "source": [
    "probabilities = large_circuit.probs(params)\n",
    "print(probabilities)"
   ]
  },
  {
   "cell_type": "markdown",
   "metadata": {},
   "source": [
    "As we can see, we can't sample or know the probabilities of the circuit for the large one. The only efficient approximation algorithm we have is for the calculation of expectation values. In the following figure, you can see how the time scales with the different methods when we increase the number of qubits. The calculation of expectation values is the only one that remains linear instead of increasing exponentially."
   ]
  },
  {
   "cell_type": "markdown",
   "metadata": {},
   "source": [
    "<div>\n",
    "<center>\n",
    "<img src=\"sample_time.png\" width=\"500\"/>\n",
    "</center>\n",
    "</div>"
   ]
  },
  {
   "cell_type": "markdown",
   "metadata": {},
   "source": [
    "## Optimizing an IQPopt circuit"
   ]
  },
  {
   "cell_type": "markdown",
   "metadata": {},
   "source": [
    "Circuits can be optimized via a separate ```Trainer``` class. To instantiate a trainer object we first define a loss function (also called an objective function), an optimizer and an initial stepsize for the gradient descent. Continuing our ```small_circuit``` example from before, below we define a simple loss function that is a sum of expectation values returned by ```.op_expval()``` ."
   ]
  },
  {
   "cell_type": "code",
   "execution_count": 16,
   "metadata": {},
   "outputs": [],
   "source": [
    "import jax.numpy as jnp\n",
    "\n",
    "def loss_fn(params, circuit, ops, n_samples, key):\n",
    "    expvals = circuit.op_expval(params, ops, n_samples, key)[0]\n",
    "    return jnp.sum(expvals)\n",
    "\n",
    "optimizer = \"Adam\"\n",
    "stepsize = 0.001\n",
    "\n",
    "trainer = iqp.Trainer(optimizer, loss_fn, stepsize)"
   ]
  },
  {
   "cell_type": "markdown",
   "metadata": {},
   "source": [
    "Any differentiable loss function expressible in JAX can be defined, but must have a first argument ```params``` that corresponds to the optimization parameters of the circuit. To minimize the loss function, we call the method ```.train()``` , which requires the number of iterations ```n_iters``` and the initial arguments of the loss function ```loss_kwargs``` given as a dictionary object. This dictionary must contain a key ```params``` whose corresponding value specifies the initial parameters."
   ]
  },
  {
   "cell_type": "code",
   "execution_count": 17,
   "metadata": {},
   "outputs": [
    {
     "name": "stderr",
     "output_type": "stream",
     "text": [
      "Training Progress: 100%|██████████| 1000/1000 [00:19<00:00, 51.88it/s, loss=-2.950562, elapsed time=0.03, total time=19.7]\n"
     ]
    },
    {
     "name": "stdout",
     "output_type": "stream",
     "text": [
      "Training has not converged after 1000 steps\n"
     ]
    },
    {
     "data": {
      "image/png": "[encoded data removed]",
      "text/plain": [
       "<Figure size 640x480 with 1 Axes>"
      ]
     },
     "metadata": {},
     "output_type": "display_data"
    }
   ],
   "source": [
    "import matplotlib.pyplot as plt\n",
    "\n",
    "n_iters = 1000\n",
    "params_init = np.random.normal(0, 1, len(small_circuit.gates))\n",
    "n_samples = 100\n",
    "\n",
    "loss_kwargs = {\n",
    "    \"params\": params_init,\n",
    "    \"circuit\": small_circuit,\n",
    "    \"ops\": ops,\n",
    "    \"n_samples\": n_samples,\n",
    "    \"key\": key,\n",
    "}\n",
    "\n",
    "trainer.train(n_iters, loss_kwargs)\n",
    "\n",
    "trained_params = trainer.final_params\n",
    "plt.plot(trainer.losses) # plot the loss curve\n",
    "plt.show()"
   ]
  },
  {
   "cell_type": "markdown",
   "metadata": {},
   "source": [
    "## Generative machine learning tools\n",
    "\n",
    "The package contains a module ```gen_qml``` with functionality to train and evaluate generative models expressed as ```IqpSimulator``` circuits."
   ]
  },
  {
   "cell_type": "markdown",
   "metadata": {},
   "source": [
    "### Training via the maximum mean discrepancy loss\n",
    "\n",
    "The Maximum Mean Discrepancy (MMD) [9] is an integral probability metric that measures the similarity between two probability distributions, and can serve as a loss function to train generative models. It has one parameter called ```sigma```, the bandwidth of the used gaussian kernel.\n",
    "\n",
    "This metric is usually calculated with samples from both probability distributions and we have an implementation ready for this case in the ```gen_qml``` module."
   ]
  },
  {
   "cell_type": "code",
   "execution_count": 18,
   "metadata": {},
   "outputs": [
    {
     "name": "stdout",
     "output_type": "stream",
     "text": [
      "0.011843344247578547\n"
     ]
    }
   ],
   "source": [
    "import iqpopt.gen_qml as gen\n",
    "from iqpopt.gen_qml.utils import median_heuristic\n",
    "\n",
    "n_bits = 100\n",
    "# toy datasets of low weight bitstrings\n",
    "X1 = np.random.binomial(1, 0.05, size=(100, n_bits))\n",
    "X2 = np.random.binomial(1, 0.07, size=(100, n_bits))\n",
    "\n",
    "sigma = median_heuristic(X1) # bandwidth for MMD\n",
    "\n",
    "mmd = gen.mmd_loss_samples(X1, X2, sigma)\n",
    "print(mmd)"
   ]
  },
  {
   "cell_type": "markdown",
   "metadata": {},
   "source": [
    "This metric can be determined only with expectation values of PauliZ operators, so, when instead of samples, we have an ```IqpSimulator``` object, we can also calculate it comparing the circuit's distribution with the ```ground_truth```.\n",
    "\n",
    "The implementation in the ```gen_qml``` module only needs an additional parameter, ```n_ops```, that controls the accuracy of this value. For each of these ```n_ops```, an expectation value will be calculated with ```n_samples```. The higher the number of operators the better.\n",
    "\n",
    "Let's see it in an example with 20 qubits:"
   ]
  },
  {
   "cell_type": "code",
   "execution_count": 19,
   "metadata": {},
   "outputs": [
    {
     "name": "stdout",
     "output_type": "stream",
     "text": [
      "0.1283565256489333\n"
     ]
    }
   ],
   "source": [
    "n_qubits = 20\n",
    "\n",
    "# toy dataset of low weight bitstrings (from ground truth p)\n",
    "ground_truth = np.random.binomial(1, 0.2, size=(100, n_qubits))\n",
    "\n",
    "gates = local_gates(n_qubits, 2)\n",
    "circuit = iqp.IqpSimulator(n_qubits, gates)\n",
    "\n",
    "params = np.random.normal(0, 1/np.sqrt(n_qubits), len(gates))\n",
    "sigma = median_heuristic(ground_truth) # bandwidth for MMD\n",
    "\n",
    "mmd = gen.mmd_loss_iqp(params,\n",
    "                       circuit,\n",
    "                       ground_truth,\n",
    "                       sigma,\n",
    "                       n_ops=1000,\n",
    "                       n_samples=1000,\n",
    "                       key=jax.random.PRNGKey(42))\n",
    "print(mmd)"
   ]
  },
  {
   "cell_type": "markdown",
   "metadata": {},
   "source": [
    "Now, similar to what we did a few sections back in *Optimizing a circuit*, this function can be used with a ```Trainer``` object to train a quantum generative model given as a parameterized IQP circuit.\n",
    "\n",
    "Using the last defined 20 qubits circuit:"
   ]
  },
  {
   "cell_type": "code",
   "execution_count": 20,
   "metadata": {},
   "outputs": [
    {
     "name": "stderr",
     "output_type": "stream",
     "text": [
      "Training Progress: 100%|██████████| 250/250 [00:10<00:00, 23.44it/s, loss=-0.000179, elapsed time=0.04, total time=11]  \n"
     ]
    },
    {
     "name": "stdout",
     "output_type": "stream",
     "text": [
      "Training has not converged after 250 steps\n"
     ]
    },
    {
     "data": {
      "image/png": "[encoded data removed]",
      "text/plain": [
       "<Figure size 640x480 with 1 Axes>"
      ]
     },
     "metadata": {},
     "output_type": "display_data"
    }
   ],
   "source": [
    "X_train = np.random.binomial(1, 0.2, size=(1000, n_qubits))\n",
    "params_init = np.random.normal(0, 1/np.sqrt(n_qubits), len(gates))\n",
    "loss = gen.mmd_loss_iqp # MMD loss\n",
    "\n",
    "loss_kwargs = {\n",
    "    \"params\": params_init,\n",
    "    \"iqp_circuit\": circuit,\n",
    "    \"ground_truth\": X_train, # samples from ground truth distribution\n",
    "    \"sigma\": sigma,\n",
    "    \"n_ops\": 1000,\n",
    "    \"n_samples\": 1000,\n",
    "    \"key\": jax.random.PRNGKey(42),\n",
    "}\n",
    "\n",
    "trainer = iqp.Trainer(\"Adam\", loss, stepsize=0.01)\n",
    "trainer.train(n_iters=250, loss_kwargs=loss_kwargs)\n",
    "\n",
    "trained_params = trainer.final_params\n",
    "plt.plot(trainer.losses)\n",
    "plt.show()"
   ]
  },
  {
   "cell_type": "markdown",
   "metadata": {},
   "source": [
    "References:\n",
    "\n",
    "[1] Michael J Bremner, Richard Jozsa, and Dan J Shepherd. “Classical simulation of com-\n",
    "muting quantum computations implies collapse of the polynomial hierarchy”. In: Proceed-\n",
    "ings of the Royal Society A: Mathematical, Physical and Engineering Sciences 467.2126\n",
    "(2011), pp. 459–472 (page 1).\n",
    "\n",
    "[2] Michael J Bremner, Ashley Montanaro, and Dan J Shepherd. “Average-case complex-\n",
    "ity versus approximate simulation of commuting quantum computations”. In: Physical\n",
    "review letters 117.8 (2016), p. 080501 (page 1).\n",
    "\n",
    "[3] Simon C Marshall, Scott Aaronson, and Vedran Dunjko. “Improved separation between\n",
    "quantum and classical computers for sampling and functional tasks”. In: arXiv preprint\n",
    "arXiv:2410.20935 (2024) (page 1).\n",
    "\n",
    "[4] Michael J Bremner, Ashley Montanaro, and Dan J Shepherd. “Achieving quantum\n",
    "supremacy with sparse and noisy commuting quantum computations”. In: Quantum 1\n",
    "(2017), p. 8 (page 1).\n",
    "\n",
    "[5] Tomoyuki Morimae and Suguru Tamaki. “Additive-error fine-grained quantum supremacy”.\n",
    "In: Quantum 4 (2020), p. 329 (page 1).\n",
    "\n",
    "[6] Louis Paletta, Anthony Leverrier, Alain Sarlette, Mazyar Mirrahimi, and Christophe\n",
    "Vuillot. “Robust sparse IQP sampling in constant depth”. In: Quantum 8 (2024), p. 1337\n",
    "(page 1).\n",
    "\n",
    "[7] Dolev Bluvstein, Simon J Evered, Alexandra A Geim, Sophie H Li, Hengyun Zhou, Tom\n",
    "Manovitz, Sepehr Ebadi, Madelyn Cain, Marcin Kalinowski, Dominik Hangleiter, et al.\n",
    "“Logical quantum processor based on reconfigurable atom arrays”. In: Nature 626.7997\n",
    "(2024), pp. 58–65 (pages 1, 2).\n",
    "\n",
    "[8] Dominik Hangleiter, Marcin Kalinowski, Dolev Bluvstein, Madelyn Cain, Nishad Maskara,\n",
    "Xun Gao, Aleksander Kubica, Mikhail D Lukin, and Michael J Gullans. “Fault-tolerant\n",
    "compiling of classically hard IQP circuits on hypercubes”. In: arXiv preprint arXiv:2404.19005\n",
    "(2024) (page 1).\n",
    "\n",
    "[9] Arthur Gretton, Karsten M. Borgwardt, Malte J. Rasch, Bernhard Schölkopf, and Alexan-\n",
    "der Smola. “A Kernel Two-Sample Test”. In: Journal of Machine Learning Research 13.25\n",
    "(2012), pp. 723–773. url: http://jmlr.org/papers/v13/gretton12a.html (page 14)."
   ]
  }
 ],
 "metadata": {
  "kernelspec": {
   "display_name": "Python 3 (ipykernel)",
   "language": "python",
   "name": "python3"
  },
  "language_info": {
   "codemirror_mode": {
    "name": "ipython",
    "version": 3
   },
   "file_extension": ".py",
   "mimetype": "text/x-python",
   "name": "python",
   "nbconvert_exporter": "python",
   "pygments_lexer": "ipython3",
   "version": "3.9.6"
  }
 },
 "nbformat": 4,
 "nbformat_minor": 2
}
